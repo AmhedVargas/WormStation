{
 "cells": [
  {
   "cell_type": "markdown",
   "metadata": {},
   "source": [
    "# Reference indexing, mapping, coverage, and variant calling\n",
    "* [Amhed Missael Vargas Velazquez](https://www.researchgate.net/profile/Amhed-Vargas-Velazquez)\n",
    "* Post-doctoral fellow, [SGB lab](https://syngenbio.kaust.edu.sa/), [KAUST](https://www.kaust.edu.sa/en)\n",
    "\n",
    "## Description\n",
    "This jupyter notebook contains commands to identify genomic variants in any polymorphic *C. elegans* strain. The description has been shortened to ease its reading. \n",
    "\n",
    "## Getting started\n",
    "Run the cells below to create a working directory, load the necessary python libraries, and to verify you have the required software."
   ]
  },
  {
   "cell_type": "markdown",
   "metadata": {},
   "source": [
    "### Load python libraries\n",
    "Run the cell below to load essential libraries for the pipeline to work:"
   ]
  },
  {
   "cell_type": "code",
   "execution_count": null,
   "metadata": {},
   "outputs": [],
   "source": [
    "## Load libraries\n",
    "#os to move within directories\n",
    "import os\n",
    "#IPython.display for markdown\n",
    "from IPython.display import display, Markdown\n",
    "#matplotlib, pandas, and numpy for plotting and data analysis respectively\n",
    "import numpy as np\n",
    "import pandas as pd\n",
    "import matplotlib.pyplot as plt"
   ]
  },
  {
   "cell_type": "markdown",
   "metadata": {},
   "source": [
    "### Produce a folder that can be accesed by the pipeline  \n",
    "Before starting any analysis, make sure to select a folder where the analysis will be performed (*unless* stated otherwise, the analysis will be performed on the **same folder as this notebook**):"
   ]
  },
  {
   "cell_type": "code",
   "execution_count": null,
   "metadata": {},
   "outputs": [],
   "source": [
    "##Set working directory\n",
    "#Same location as script\n",
    "path = os.getcwd()\n",
    "#or somewhere else, e.g.:\n",
    "#path = '/home/jupyter-user/Workstation/user/parental'\n",
    "\n",
    "##Move to path\n",
    "os.chdir(path)\n",
    "\n",
    "##Show current directory to user\n",
    "display(Markdown('<div class=\\\"alert alert-block alert-info\\\">Directory for analysis:<br><b>' + os.getcwd() + '</b></div>'))"
   ]
  },
  {
   "cell_type": "markdown",
   "metadata": {},
   "source": [
    "### Make sure to have the \"stand alone\" software\n",
    "Most of the programs used within this pipeline have \"stand-alone\" versions that allow users to run their analysis on any computer they want. However, first you have to make sure to have those programs. Particularly, make sure to have a directory containing the following ones: \n",
    "\n",
    "- GATK (GenomeAnalysisTK.jar)\n",
    "- Picard (picard.jar)\n",
    "- SnpEff (folder with both snpEff.jar and SnpSift.jar, and another folder with its database; more below)\n",
    "\n",
    "For your convenience, there is a folder already containing these programs. Just make sure to set properly the path to them, e.g.:"
   ]
  },
  {
   "cell_type": "code",
   "execution_count": null,
   "metadata": {},
   "outputs": [],
   "source": [
    "##Path to software folder\n",
    "softpath = '/home/WGS_pipeline/Software'\n",
    "\n",
    "##GATK v3.8.1.0\n",
    "GATKpath = (softpath + '/gatk-3.8.1.0')\n",
    "\n",
    "##Picard v2.23.6 \n",
    "PiKpath = (softpath + '/picard2.23.6')\n",
    "\n",
    "##SnpEff v.0\n",
    "Snpath = (softpath + '/SnpEff-5.0/snpEff')\n",
    "\n",
    "##Alternative paths\n",
    "#GATKpath = ''\n",
    "#PiKpath = ''\n",
    "#Snpath = ''\n",
    "\n",
    "##Check if jar files are there\n",
    "##Notify user if GATK .jar is present or not\n",
    "if os.path.isfile(GATKpath + '/GenomeAnalysisTK.jar'):\n",
    "    display(Markdown('<div class=\\\"alert alert-block alert-success\\\"><b>\\b GATK</b></div>'))\n",
    "else:\n",
    "    display(Markdown('<div class=\\\"alert alert-block alert-danger\\\"><b>Error:</b><br>GATK not found in: ' + GATKpath +'</div>'))\n",
    "\n",
    "##Notify user if Picard .jar is present or not\n",
    "if os.path.isfile(PiKpath + '/picard.jar'):\n",
    "    display(Markdown('<div class=\\\"alert alert-block alert-success\\\"><b>\\b Picard</b></div>'))\n",
    "else:\n",
    "    display(Markdown('<div class=\\\"alert alert-block alert-danger\\\"><b>Error:</b><br>Picard not found in: ' + PiKpath +'</div>'))\n",
    "\n",
    "##Notify user if SnpEff .jar is present or not\n",
    "if os.path.isfile(Snpath + '/snpEff.jar'):\n",
    "    display(Markdown('<div class=\\\"alert alert-block alert-success\\\"><b>\\b SnpEff</b></div>'))\n",
    "else:\n",
    "    display(Markdown('<div class=\\\"alert alert-block alert-danger\\\"><b>Error:</b><br>SnpEff not found in: ' + GATKpath +'</div>'))"
   ]
  },
  {
   "cell_type": "markdown",
   "metadata": {},
   "source": [
    "### Make sure to have a reference genome\n",
    "In order to run this pipeline, a *C. elegans* reference genome is needed (preferentially in fasta format). The cells below allows you to prepare your reference file or to download the *C. elegans* ce11/WS235 version from Ensemble."
   ]
  },
  {
   "cell_type": "markdown",
   "metadata": {},
   "source": [
    "First, download or specify the location of your reference genome:"
   ]
  },
  {
   "cell_type": "code",
   "execution_count": null,
   "metadata": {},
   "outputs": [],
   "source": [
    "##Specify the location of the genome of Reference\n",
    "#e.g.\n",
    "RefFile=('/home/jupyter-amhed/Workstation/Amhed/Caenorhabditis_elegans.fa')\n",
    "\n",
    "###OR\n",
    "\n",
    "##To download ce11 uncomment (remove the # sign) from the lines below\n",
    "\n",
    "#!mkdir -p {path}/data\n",
    "\n",
    "#os.chdir(path+'/data')\n",
    "\n",
    "#!wget -q ftp://ftp.ensembl.org/pub/release-99/fasta/caenorhabditis_elegans/dna/Caenorhabditis_elegans.WBcel235.dna_sm.toplevel.fa.gz\n",
    "\n",
    "#!zcat Caenorhabditis_elegans.WBcel235.dna_sm.toplevel.fa.gz > Caenorhabditis_elegans.WBcel235.99.softmasked.fa\n",
    "\n",
    "#RefFile=(path+'/data/'+'Caenorhabditis_elegans.WBcel235.99.softmasked.fa')\n",
    "\n",
    "##Notify user if file present or not\n",
    "if os.path.isfile(RefFile):\n",
    "    display(Markdown('<div class=\\\"alert alert-block alert-success\\\"><b>Reference Genome :</b>\\n'+RefFile+'</div>'))\n",
    "else:\n",
    "    display(Markdown('<div class=\\\"alert alert-block alert-danger\\\"><b>Error:</b><br>Reference file: '+RefFile+' does not exists</div>'))"
   ]
  },
  {
   "cell_type": "markdown",
   "metadata": {},
   "source": [
    "Then it need to be indexed by samtools:"
   ]
  },
  {
   "cell_type": "code",
   "execution_count": null,
   "metadata": {},
   "outputs": [],
   "source": [
    "##Check first if file is indexed already\n",
    "if os.path.isfile(RefFile+'.fai'):\n",
    "    display(Markdown('<b>\\b</b>'))\n",
    "else:\n",
    "    !samtools faidx {RefFile}\n",
    "    ##Notify user if this step was sucessfull\n",
    "    if os.path.isfile(RefFile+'.fai'):\n",
    "        display(Markdown('<b>\\b</b>'))\n",
    "    else:\n",
    "            display(Markdown('<div class=\\\"alert alert-block alert-danger\\\"><b>Error:</b><br>Index file not produced for '+RefFile+'</div>'))"
   ]
  },
  {
   "cell_type": "markdown",
   "metadata": {},
   "source": [
    "And bwa"
   ]
  },
  {
   "cell_type": "code",
   "execution_count": null,
   "metadata": {},
   "outputs": [],
   "source": [
    "##Check first if file is indexed already\n",
    "if os.path.isfile(RefFile+'.bwt'):\n",
    "    display(Markdown('<b>\\b</b>'))\n",
    "else:\n",
    "    !bwa index {RefFile} > /dev/null 2>&1\n",
    "    ##Notify user if this step was sucessfull\n",
    "    if os.path.isfile(RefFile+'.bwt'):\n",
    "        display(Markdown('<b>\\b</b>'))\n",
    "    else:\n",
    "        display(Markdown('<div class=\\\"alert alert-block alert-danger\\\"><b>Error:</b><br>Index file not produced for '+RefFile+'</div>'))"
   ]
  },
  {
   "cell_type": "markdown",
   "metadata": {},
   "source": [
    "And by picard tools"
   ]
  },
  {
   "cell_type": "code",
   "execution_count": null,
   "metadata": {},
   "outputs": [],
   "source": [
    "RefFilebase=''.join(RefFile.split('.')[:-1])\n",
    "\n",
    "##Check first if file is indexed already\n",
    "if os.path.isfile(RefFilebase +'.dict'):\n",
    "    display(Markdown('<b>\\b</b>'))\n",
    "else:\n",
    "    !java -jar {softpath}/picard2.23.6/picard.jar CreateSequenceDictionary R={RefFile} O={RefFilebase +'.dict'} > /dev/null 2>&1\n",
    "    ##Notify user if this step was sucessfull\n",
    "    if os.path.isfile(RefFilebase +'.dict'):\n",
    "        display(Markdown('<b>\\b</b>'))\n",
    "    else:\n",
    "        display(Markdown('<div class=\\\"alert alert-block alert-danger\\\"><b>Error:</b><br>Index file not produced for '+RefFile+'</div>'))"
   ]
  },
  {
   "cell_type": "markdown",
   "metadata": {},
   "source": [
    "Now your reference genome is ready for the analysis in this pipeline (**as well as many others**)."
   ]
  },
  {
   "cell_type": "code",
   "execution_count": null,
   "metadata": {},
   "outputs": [],
   "source": [
    "ReferenceGenome = RefFile"
   ]
  },
  {
   "cell_type": "markdown",
   "metadata": {},
   "source": [
    "## Data analysis workflow\n",
    "The common pipeline consist on:\n",
    "* Quality assesment of sequencing reads via FastQC\n",
    "* Mapping of reads with bwa\n",
    "* Filtering and processing of alignment file with samtools\n",
    "* Coverage analysis with Samtools\n",
    "* Realigment with GATK\n",
    "* Variant calling with GATK HC and UG\n",
    "* Mutational analysis with SnpEff"
   ]
  },
  {
   "cell_type": "markdown",
   "metadata": {},
   "source": [
    "Lets now define parameters for pipeline:"
   ]
  },
  {
   "cell_type": "code",
   "execution_count": null,
   "metadata": {},
   "outputs": [],
   "source": [
    "### Input parameters\n",
    "##Name of your sample\n",
    "SampleName = 'CFJ125'\n",
    "##Name of the directory that will contain the results of the analysis\n",
    "DirectoryName = 'CFJ125_analysis'\n",
    "##First Fastq file (.fq, .fastq, .fastq.gz extensions are allowed)\n",
    "FastqF1 = ('/home/jupyter-newuser/Workstation/CFJ125/CFJ125_R1.fastq') \n",
    "##Second Fastq file (.fq, .fastq, .fastq.gz extensions are allowed)\n",
    "FastqF2 = ('/home/jupyter-newuser/Workstation/CFJ125/CFJ125_R2.fastq')\n",
    "\n",
    "### Default parameters : Modify to tailor your analysis\n",
    "## Minimal mapping quality for bam filtering\n",
    "minMaqQforBam = 1\n",
    "## Minimum mapping quality for variant calling\n",
    "minMaqQforVcf = 10\n",
    "## Minimum basequality for variant calling\n",
    "minBaseQforVcf = 10\n",
    "## Minimum depth for variant calling\n",
    "minVarCall = 10\n",
    "## Number of threats (make sure to have enough available resources)\n",
    "Ncpu = 4\n",
    "## Ram allocation for java virtual environment (make sure to have enough available resources)\n",
    "ramG = 20\n",
    "## SnpEff database\n",
    "SnpEffGen = 'WBcel235.99'\n",
    "\n",
    "### Process inputs, and go to directory to start analysis\n",
    "#Make sure to start from path\n",
    "os.chdir(path)\n",
    "##Create directory to place data\n",
    "!mkdir -p {path}/{DirectoryName}\n",
    "##Move to that directory\n",
    "os.chdir( path + '/' + DirectoryName )\n",
    "\n",
    "### Verification process\n",
    "##Reference genome\n",
    "if os.path.isfile(ReferenceGenome):\n",
    "    display(Markdown('<div class=\\\"alert alert-block alert-success\\\"><b>Reference Genome :</b>\\n'+RefFile+'</div>'))\n",
    "else:\n",
    "    display(Markdown('<div class=\\\"alert alert-block alert-danger\\\"><b>Error:</b><br>Reference file: '+RefFile+' does not exists</div>'))\n",
    "\n",
    "## First fastq file\n",
    "if os.path.isfile(FastqF1):\n",
    "    display(Markdown('<div class=\\\"alert alert-block alert-success\\\"><b>FastqF1 :</b>\\n'+FastqF1+'</div>'))\n",
    "else:\n",
    "    display(Markdown('<div class=\\\"alert alert-block alert-danger\\\"><b>Error:</b><br>First fastq file: '+FastqF1+' not found</div>'))\n",
    "\n",
    "## Second fastq file\n",
    "if os.path.isfile(FastqF2):\n",
    "    display(Markdown('<div class=\\\"alert alert-block alert-success\\\"><b>FastqF2 :</b>\\n'+FastqF2+'</div>'))\n",
    "else:\n",
    "    display(Markdown('<div class=\\\"alert alert-block alert-danger\\\"><b>Error:</b><br>Second fastq file: '+FastqF2+' not found</div>'))\n",
    "\n",
    "## Show current directory (where everything will happen)\n",
    "##Show current directory to user\n",
    "display(Markdown('<div class=\\\"alert alert-block alert-info\\\">Running analysis in:<br><b>' + os.getcwd() + '</b></div>'))"
   ]
  },
  {
   "cell_type": "markdown",
   "metadata": {},
   "source": [
    "### Quality assesment of Fastq files\n",
    "A simple way to verify the quality of your sequencing runs is via the FastQC program. The following cells will read the fastq files, run the program `fastqc` and output its results:"
   ]
  },
  {
   "cell_type": "code",
   "execution_count": null,
   "metadata": {},
   "outputs": [],
   "source": [
    "##Perform fastQC analysis\n",
    "!fastqc -t {Ncpu} {FastqF1} {FastqF2} -o . > /dev/null 2>&1 \n",
    "\n",
    "##Notify user if this step was sucessfull\n",
    "tempname1 = FastqF1.split(\"/\")[-1]\n",
    "tempname1 = ''.join(tempname1.split(\".\")[-len(tempname1.split(\".\"))])\n",
    "if os.path.isfile(tempname1 + '_fastqc.html'):\n",
    "    #display(Markdown('<div class=\\\"alert alert-block alert-success\\\">'))\n",
    "    !unzip -o -qq \\*.zip\n",
    "    display(Markdown('<b>Metrics:</b>'))\n",
    "    tempname1 = FastqF1.split(\"/\")[-1]\n",
    "    tempname1 = ''.join(tempname1.split(\".\")[-len(tempname1.split(\".\"))])\n",
    "    print(tempname1)\n",
    "    !cat {tempname1}_fastqc/summary.txt\n",
    "    tempname2 = FastqF2.split(\"/\")[-1]\n",
    "    tempname2 = ''.join(tempname2.split(\".\")[-len(tempname2.split(\".\"))])\n",
    "    print(tempname2)\n",
    "    !cat {tempname2}_fastqc/summary.txt\n",
    "    display(Markdown('<b>\\b</b>'))\n",
    "else:\n",
    "    display(Markdown('<div class=\\\"alert alert-block alert-danger\\\"><b>Error:</b><br>FASTQC report not produced in current directory: '+os.getcwd()+'</div>'))"
   ]
  },
  {
   "cell_type": "markdown",
   "metadata": {},
   "source": [
    "#### HTML reports\n",
    "Run the cell below to link the `fastqc` results to this notebook."
   ]
  },
  {
   "cell_type": "code",
   "execution_count": null,
   "metadata": {},
   "outputs": [],
   "source": [
    "display(Markdown('Full reports (open a new tab to see them): \\n' + '* [' + tempname1 + '](./' + DirectoryName + '/' + tempname1 +'_fastqc.html)\\n' + '* [' + tempname2 + '](./' + DirectoryName + '/' + tempname2 +'_fastqc.html)\\n'))"
   ]
  },
  {
   "cell_type": "markdown",
   "metadata": {},
   "source": [
    "### Mapping reads to reference genome using bwa"
   ]
  },
  {
   "cell_type": "markdown",
   "metadata": {},
   "source": [
    "After assesing the quality of the Fastq reads, we will map them to the reference genome using `bwa`. The cells below will run bwa taking as input the fastq files and producing an aligment file with extension `.sam`"
   ]
  },
  {
   "cell_type": "code",
   "execution_count": null,
   "metadata": {},
   "outputs": [],
   "source": [
    "##Move to main directory \n",
    "os.chdir( path + '/' + DirectoryName )"
   ]
  },
  {
   "cell_type": "code",
   "execution_count": null,
   "metadata": {},
   "outputs": [],
   "source": [
    "!bwa mem -t {Ncpu} -M {ReferenceGenome} {FastqF1} {FastqF2} -o {SampleName}.sam > /dev/null 2>&1\n",
    "\n",
    "##Notify user if previous step was sucessfull\n",
    "if os.path.isfile(SampleName+'.sam'):\n",
    "    #display(Markdown('<div class=\\\"alert alert-block alert-success\\\">\\b</div>'))\n",
    "    display(Markdown('<b>\\b</b>'))\n",
    "else:\n",
    "    display(Markdown('<div class=\\\"alert alert-block alert-danger\\\"><b>Error:</b><br>Sam file not present in current path: '+os.getcwd()+'</div>'))"
   ]
  },
  {
   "cell_type": "markdown",
   "metadata": {},
   "source": [
    "Furthermore, we will now transform the `.sam` file into its binary format (`.bam`) and sort it at the same time."
   ]
  },
  {
   "cell_type": "code",
   "execution_count": null,
   "metadata": {},
   "outputs": [],
   "source": [
    "!samtools view -@ {Ncpu} -S -bh {SampleName}.sam | samtools sort -@ {Ncpu} - > {SampleName}.bam\n",
    "\n",
    "if os.path.isfile(SampleName+'.bam'):\n",
    "    #display(Markdown('<div class=\\\"alert alert-block alert-success\\\">\\b</div>'))\n",
    "    display(Markdown('<b>\\b</b>'))\n",
    "else:\n",
    "    display(Markdown('<div class=\\\"alert alert-block alert-danger\\\"><b>Error:</b><br>Sam file not present in current path: '+os.getcwd()+'</div>'))"
   ]
  },
  {
   "cell_type": "markdown",
   "metadata": {},
   "source": [
    "To ease the processing of a sorted `.bam` file, its better to index it (i.e., produce a file with extension `.bai`)"
   ]
  },
  {
   "cell_type": "code",
   "execution_count": null,
   "metadata": {},
   "outputs": [],
   "source": [
    "!samtools index {SampleName}.bam\n",
    "\n",
    "if os.path.isfile(SampleName+'.bam.bai'):\n",
    "    #display(Markdown('<div class=\\\"alert alert-block alert-success\\\">\\b</div>'))\n",
    "    display(Markdown('<b>\\b</b>'))\n",
    "else:\n",
    "    display(Markdown('<div class=\\\"alert alert-block alert-danger\\\"><b>Error:</b><br>Index file not present in current path: '+os.getcwd()+'</div>'))"
   ]
  },
  {
   "cell_type": "markdown",
   "metadata": {},
   "source": [
    "Now that we have sorted and indexed our raw aligment, let's filter for mapping quality (file with extension `.SF.bam` where the S stands for sort and F for filter)."
   ]
  },
  {
   "cell_type": "code",
   "execution_count": null,
   "metadata": {},
   "outputs": [],
   "source": [
    "!samtools view -@ {Ncpu} -q {minMaqQforBam} -bh {SampleName}.bam > {SampleName}.SF.bam\n",
    "\n",
    "if os.path.isfile(SampleName+'.SF.bam'):\n",
    "    #display(Markdown('<div class=\\\"alert alert-block alert-success\\\">\\b</div>'))\n",
    "    display(Markdown('<b>\\b</b>'))\n",
    "else:\n",
    "    display(Markdown('<div class=\\\"alert alert-block alert-danger\\\"><b>Error:</b><br>Filtered file not present in current path: '+os.getcwd()+'</div>'))"
   ]
  },
  {
   "cell_type": "markdown",
   "metadata": {},
   "source": [
    "Finally, to reduce the bias produced at the PCR amplification step of sequencing libraries, let's remove all duplicated reads in our raw aligment i.e., all the reads that contain exactly the same sequence. For that, first we have to group our reads and identify the duplicates. These steps are done in this pipeline with `picard` tools. **Please note:** Removing duplicates do affect the efective sequencing depth seen in across the genome, however, this step should act uniformly except in regions with high level of repetitions or low level of sequence complexity."
   ]
  },
  {
   "cell_type": "code",
   "execution_count": null,
   "metadata": {},
   "outputs": [],
   "source": [
    "!java -Xmx{ramG}g -jar {softpath}/picard2.23.6/picard.jar AddOrReplaceReadGroups I={SampleName}.SF.bam O={SampleName}.RG.bam RGID={SampleName} RGLB=LB RGPL=illumina RGPU=PU RGSM={SampleName} > /dev/null 2>&1\n",
    "\n",
    "if os.path.isfile(SampleName+'.RG.bam'):\n",
    "    #display(Markdown('<div class=\\\"alert alert-block alert-success\\\">\\b</div>'))\n",
    "    display(Markdown('<b>\\b</b>'))\n",
    "else:\n",
    "    display(Markdown('<div class=\\\"alert alert-block alert-danger\\\"><b>Error:</b><br>Read groups file not present in current path: '+os.getcwd()+'</div>'))"
   ]
  },
  {
   "cell_type": "markdown",
   "metadata": {},
   "source": [
    "After grouping and marking duplicated reads, we can now filter them out and produce a new `.bam` file with extension `.Dup.bam`"
   ]
  },
  {
   "cell_type": "code",
   "execution_count": null,
   "metadata": {},
   "outputs": [],
   "source": [
    "!java -Xmx{ramG}g -jar {softpath}/picard2.23.6/picard.jar MarkDuplicates I={SampleName}.RG.bam O={SampleName}.Dup.bam M={SampleName}.dedupMetrics REMOVE_DUPLICATES=true > /dev/null 2>&1\n",
    "\n",
    "if os.path.isfile(SampleName+'.Dup.bam'):\n",
    "    display(Markdown('<b>\\b</b>'))\n",
    "else:\n",
    "    display(Markdown('<div class=\\\"alert alert-block alert-danger\\\"><b>Error:</b><br>Aligment withouth duplicates file not present in current path: '+os.getcwd()+'</div>'))"
   ]
  },
  {
   "cell_type": "markdown",
   "metadata": {},
   "source": [
    "Finally, let's index it to ease its further processing:"
   ]
  },
  {
   "cell_type": "code",
   "execution_count": null,
   "metadata": {},
   "outputs": [],
   "source": [
    "!samtools index {SampleName}.Dup.bam\n",
    "\n",
    "if os.path.isfile(SampleName+'.Dup.bam.bai'):\n",
    "    #display(Markdown('<div class=\\\"alert alert-block alert-success\\\">\\b</div>'))\n",
    "    display(Markdown('<b>\\b</b>'))\n",
    "else:\n",
    "    display(Markdown('<div class=\\\"alert alert-block alert-danger\\\"><b>Error:</b><br>Index file not present in current path: '+os.getcwd()+'</div>'))"
   ]
  },
  {
   "cell_type": "markdown",
   "metadata": {},
   "source": [
    "Feel free to download the files before the realigment step by following the links:"
   ]
  },
  {
   "cell_type": "code",
   "execution_count": null,
   "metadata": {},
   "outputs": [],
   "source": [
    "display(Markdown('Download bam files (right-click and \\\"save as\\\"): \\n' + '* [' + SampleName + '.Dup.bam](./' + DirectoryName + '/' + SampleName +'.Dup.bam)\\n' + '* [' + SampleName + '.Dup.bam.bai](./' + DirectoryName + '/' + SampleName +'.Dup.bam.bai)\\n'))"
   ]
  },
  {
   "cell_type": "markdown",
   "metadata": {},
   "source": [
    "### Coverage analysis with samtools\n",
    "Before realigment and variant calling, let's have a quick look to the coverage of our aligment withouth duplicated reads (please note that if you want to see specifically the coverage of a region or contig, you can modify the code as mentioned in the cell)"
   ]
  },
  {
   "cell_type": "code",
   "execution_count": null,
   "metadata": {},
   "outputs": [],
   "source": [
    "##For all the genome\n",
    "!samtools coverage {SampleName}.Dup.bam\n",
    "\n",
    "##For specific regions, e.g.:\n",
    "#!samtools coverage -r MtDNA {SampleName}.Dup.bam\n",
    "#!samtools coverage -r I:12995803-13012859 {SampleName}.Dup.bam"
   ]
  },
  {
   "cell_type": "markdown",
   "metadata": {},
   "source": [
    "### Local realigment of reads around indels via GATK\n",
    "Let's now proceed to re-align the reads to do better calling around indels. For that, we start by identifying the location of possible indes via GATK"
   ]
  },
  {
   "cell_type": "code",
   "execution_count": null,
   "metadata": {},
   "outputs": [],
   "source": [
    "!java -Xmx{ramG}g -jar {softpath}/gatk-3.8.1.0/GenomeAnalysisTK.jar -T RealignerTargetCreator -nt {Ncpu} -R {ReferenceGenome} -I {SampleName}.Dup.bam -o {SampleName}.Indel.intervals > /dev/null 2>&1\n",
    "\n",
    "if os.path.isfile(SampleName+'.Indel.intervals'):\n",
    "    #display(Markdown('<div class=\\\"alert alert-block alert-success\\\">\\b</div>'))\n",
    "    display(Markdown('<b>\\b</b>'))\n",
    "else:\n",
    "    display(Markdown('<div class=\\\"alert alert-block alert-danger\\\"><b>Error:</b><br>File with realigned indels not present in current path: '+os.getcwd()+'</div>'))"
   ]
  },
  {
   "cell_type": "markdown",
   "metadata": {},
   "source": [
    "And then we proceed to perform realigment around the spotted regions"
   ]
  },
  {
   "cell_type": "code",
   "execution_count": null,
   "metadata": {},
   "outputs": [],
   "source": [
    "!java -Xmx{ramG}g -jar {softpath}/gatk-3.8.1.0/GenomeAnalysisTK.jar -T IndelRealigner -R {ReferenceGenome} -I {SampleName}.Dup.bam -targetIntervals {SampleName}.Indel.intervals -o {SampleName}.realigned.bam > /dev/null 2>&1\n",
    "\n",
    "if os.path.isfile(SampleName+'.realigned.bam'):\n",
    "    display(Markdown('<b>\\b</b>'))\n",
    "else:\n",
    "    display(Markdown('<div class=\\\"alert alert-block alert-danger\\\"><b>Error:</b><br>Realigned bam not present in current path: '+os.getcwd()+'</div>'))"
   ]
  },
  {
   "cell_type": "markdown",
   "metadata": {},
   "source": [
    "Check if files present"
   ]
  },
  {
   "cell_type": "code",
   "execution_count": null,
   "metadata": {},
   "outputs": [],
   "source": [
    "if os.path.isfile(SampleName+'.realigned.bam'):\n",
    "    display(Markdown('<div class=\\\"alert alert-block alert-success\\\"><b>\\b Mapping step complete</b></div>'))\n",
    "else:\n",
    "    display(Markdown('<div class=\\\"alert alert-block alert-danger\\\"><b>Error:</b><br>Realigned bam not present in current path: '+os.getcwd()+'<br>Either the path is wrong or cells above have to be run again</div>'))"
   ]
  },
  {
   "cell_type": "markdown",
   "metadata": {},
   "source": [
    "Now is time for variant calling, though feel free to check the new aligment file (extension `.realigned.bam`) using [tablet](https://ics.hutton.ac.uk/tablet/) or [igv](https://software.broadinstitute.org/software/igv/). Running the cell below produces a link that you can use to save them:"
   ]
  },
  {
   "cell_type": "code",
   "execution_count": null,
   "metadata": {},
   "outputs": [],
   "source": [
    "display(Markdown('Download bam files (right-click and \\\"save as\\\"): \\n' + '* [' + SampleName + '.realigned.bam](./' + DirectoryName + '/' + SampleName +'.realigned.bam)\\n' + '* [' + SampleName + '.realigned.bam.bai](./' + DirectoryName + '/' + SampleName +'.realigned.bam.bai)\\n'))"
   ]
  },
  {
   "cell_type": "markdown",
   "metadata": {},
   "source": [
    "### Variant calling\n",
    "Now that our reads are properly aligned, lets do variant calling. To start, let's make sure to be in the directory where analysis have been executed:"
   ]
  },
  {
   "cell_type": "code",
   "execution_count": null,
   "metadata": {},
   "outputs": [],
   "source": [
    "##Move to main directory \n",
    "os.chdir( path + '/' + DirectoryName )"
   ]
  },
  {
   "cell_type": "markdown",
   "metadata": {},
   "source": [
    "Now, while there are multiple programs to call variants, this pipeline uses two different well known GATK variant callers, those being Unified Genotyper (UG) and Haplotype Caller (HC). Both should produce good calls though some pipelines preffer the use of HC given its confidence metrics."
   ]
  },
  {
   "cell_type": "markdown",
   "metadata": {},
   "source": [
    "#### Unified genotyper\n",
    "The code below produces a `.vcf` (variant calling format) file via GATK's unified genotyper tool"
   ]
  },
  {
   "cell_type": "code",
   "execution_count": null,
   "metadata": {},
   "outputs": [],
   "source": [
    "!java -Xmx{ramG}g -jar {softpath}/gatk-3.8.1.0/GenomeAnalysisTK.jar -T UnifiedGenotyper -R {ReferenceGenome} -nt {Ncpu} -l INFO -glm BOTH -I {path}/{DirectoryName}/{SampleName}.realigned.bam -o {SampleName}.UG.vcf -mbq {minBaseQforVcf} -stand_call_conf {minVarCall} > /dev/null 2>&1\n",
    "\n",
    "if os.path.isfile(SampleName+'.UG.vcf'):\n",
    "    display(Markdown('<b>\\b</b>'))\n",
    "else:\n",
    "    display(Markdown('<div class=\\\"alert alert-block alert-danger\\\"><b>Error:</b><br>Realigned bam not present in current path: '+os.getcwd()+'</div>'))"
   ]
  },
  {
   "cell_type": "markdown",
   "metadata": {},
   "source": [
    "#### Haplotype caller\n",
    "Before calling variants via GATK haplotype caller, we need to produce confidence values for each site and store them into a `g.vcf` file"
   ]
  },
  {
   "cell_type": "code",
   "execution_count": null,
   "metadata": {},
   "outputs": [],
   "source": [
    "!java -Xmx{ramG}g -jar {softpath}/gatk-3.8.1.0/GenomeAnalysisTK.jar -T HaplotypeCaller --emitRefConfidence GVCF -R {ReferenceGenome} -l INFO -I {path}/{DirectoryName}/{SampleName}.realigned.bam -o {SampleName}.g.vcf -mbq {minBaseQforVcf} -mmq {minMaqQforVcf} -stand_call_conf {minVarCall} > /dev/null 2>&1\n",
    "\n",
    "if os.path.isfile(SampleName+'.g.vcf'):\n",
    "    display(Markdown('<b>\\b</b>'))\n",
    "else:\n",
    "    display(Markdown('<div class=\\\"alert alert-block alert-danger\\\"><b>Error:</b><br>Realigned bam not present in current path: '+os.getcwd()+'</div>'))"
   ]
  },
  {
   "cell_type": "markdown",
   "metadata": {},
   "source": [
    "After that, we can proceed to make a new `.vcf` from the `g.vcf` file"
   ]
  },
  {
   "cell_type": "code",
   "execution_count": null,
   "metadata": {},
   "outputs": [],
   "source": [
    "!java -Xmx{ramG}g -jar {softpath}/gatk-3.8.1.0/GenomeAnalysisTK.jar -T GenotypeGVCFs -R {ReferenceGenome} -nt {Ncpu} -l INFO -V {SampleName}.g.vcf -dt none -o {SampleName}.HC.vcf  > /dev/null 2>&1\n",
    "   \n",
    "    ## Check if HC vcf is done\n",
    "if os.path.isfile(SampleName+'.HC.vcf'):\n",
    "    display(Markdown('<div class=\\\"alert alert-block alert-success\\\"><b>\\b Haplotype Caller complete</b></div>'))\n",
    "else:\n",
    "    display(Markdown('<div class=\\\"alert alert-block alert-danger\\\"><b>Error:</b><br>Realigned bam not present in current path: '+os.getcwd()+'<br>Either the path is wrong or cells above have to be run again</div>'))\n",
    "    \n",
    "## Check if UG vcf is done\n",
    "if os.path.isfile(SampleName+'.UG.vcf'):\n",
    "    display(Markdown('<div class=\\\"alert alert-block alert-success\\\"><b>\\b Unified Genotypifier complete</b></div>'))\n",
    "else:\n",
    "    display(Markdown('<div class=\\\"alert alert-block alert-danger\\\"><b>Error:</b><br>Realigned bam not present in current path: '+os.getcwd()+'<br>Either the path is wrong or cells above have to be run again</div>'))\n"
   ]
  },
  {
   "cell_type": "markdown",
   "metadata": {},
   "source": [
    "Now, for each vcf let's plot the distribution of the analized variants with python. First the vcf produced with haplotype caller"
   ]
  },
  {
   "cell_type": "code",
   "execution_count": null,
   "metadata": {},
   "outputs": [],
   "source": [
    "## Input parameters\n",
    "#Size of non-overlapping window\n",
    "Window = 50000\n",
    "#Minimum Allele frquency to plot\n",
    "AFreq = .8\n",
    "\n",
    "df = pd.read_csv((SampleName+'.HC.vcf'),delimiter='\\t',comment='#', names=[\"chr\",\"pos\",\"id\",\"ref\",\"alt\",\"qual\",\"filter\",\"info\",\"format\",SampleName])\n",
    "\n",
    "strarray= df[SampleName]\n",
    "\n",
    "RefD=[]\n",
    "AltD=[]\n",
    "Freq=[]\n",
    "for i in range(len(strarray)):\n",
    "    deps=(strarray[i].split(':'))[1].split(',')\n",
    "    RefD.append(int(deps[0]))\n",
    "    AltD.append(int(deps[1]))\n",
    "    tmpfre=int(deps[0]) + int(deps[1])\n",
    "    if tmpfre > 0 :\n",
    "        Freq.append(int(deps[1])/(int(deps[0]) + int(deps[1])))\n",
    "    else :\n",
    "        Freq.append(0)\n",
    "\n",
    "df['RefD']=RefD\n",
    "df['AltD']=AltD\n",
    "df['Freq']=Freq\n",
    "\n",
    "##Plot as separated interactive plot\n",
    "%matplotlib inline\n",
    "##Or non interactive\n",
    "#%matplotlib notebook\n",
    "\n",
    "display(Markdown('<b>'+SampleName+' Haplotype Caller; Number of variants above an allele frequency >'+str(AFreq)+' in '+str(Window)+'bp non-overlapping windows</b>'))\n",
    "\n",
    "for chrname in df[\"chr\"].unique() :\n",
    "    chr1=df.loc[df[\"chr\"]==chrname]\n",
    "    chr1 = chr1.loc[chr1[\"Freq\"]>AFreq]\n",
    "    chr1H = np.array((chr1.groupby(chr1[\"pos\"] // Window).count())[\"chr\"])\n",
    "    plt.figure()\n",
    "    plt.stem(np.array(range(len(chr1H)))*Window,chr1H)\n",
    "    plt.xlabel(\"Genomic Location, Window Size = \" + str(Window))\n",
    "    plt.ylabel(\"No. of variants with AF > \" + str(AFreq))\n",
    "    plt.title(chrname)\n",
    "plt.show() \n",
    "\n",
    "#Plot all together\n",
    "#%matplotlib notebook\n",
    "#%matplotlib inline\n",
    "#Window = 50000\n",
    "#AFreq = .8\n",
    "#con = 0\n",
    "#figure, axis = plt.subplots((len(df[\"chr\"].unique()) + 3)//4, 4)\n",
    "#for chrname in df[\"chr\"].unique() :\n",
    "#    chr1=df.loc[df[\"chr\"]==chrname]\n",
    "#    chr1 = chr1.loc[chr1[\"Freq\"]>AFreq]\n",
    "#    chr1H = np.array((chr1.groupby(chr1[\"pos\"] // Window).count())[\"chr\"])\n",
    "#    axis[con//4, con%4].stem(np.array(range(len(chr1H)))*Window,chr1H)\n",
    "#    axis[con//4, con%4].set_title(chrname)\n",
    "#    con = con + 1\n",
    "#plt.show()"
   ]
  },
  {
   "cell_type": "markdown",
   "metadata": {},
   "source": [
    "And then unified genotyper"
   ]
  },
  {
   "cell_type": "code",
   "execution_count": null,
   "metadata": {},
   "outputs": [],
   "source": [
    "## Input parameters\n",
    "#Size of non-overlapping window\n",
    "Window = 50000\n",
    "#Minimum Allele frquency to plot\n",
    "AFreq = .8\n",
    "\n",
    "df = pd.read_csv((SampleName+'.UG.vcf'),delimiter='\\t',comment='#', names=[\"chr\",\"pos\",\"id\",\"ref\",\"alt\",\"qual\",\"filter\",\"info\",\"format\",SampleName])\n",
    "\n",
    "strarray= df[SampleName]\n",
    "\n",
    "RefD=[]\n",
    "AltD=[]\n",
    "Freq=[]\n",
    "for i in range(len(strarray)):\n",
    "    deps=(strarray[i].split(':'))[1].split(',')\n",
    "    RefD.append(int(deps[0]))\n",
    "    AltD.append(int(deps[1]))\n",
    "    tmpfre=int(deps[0]) + int(deps[1])\n",
    "    if tmpfre > 0 :\n",
    "        Freq.append(int(deps[1])/(int(deps[0]) + int(deps[1])))\n",
    "    else :\n",
    "        Freq.append(0)\n",
    "\n",
    "df['RefD']=RefD\n",
    "df['AltD']=AltD\n",
    "df['Freq']=Freq\n",
    "\n",
    "##Plot as separated interactive plot\n",
    "%matplotlib inline\n",
    "##Or non interactive\n",
    "#%matplotlib notebook\n",
    "\n",
    "display(Markdown('<b>'+SampleName+' Unified Genotyper; Number of variants above an allele frequency >'+str(AFreq)+' in '+str(Window)+'bp non-overlapping windows</b>'))\n",
    "\n",
    "for chrname in df[\"chr\"].unique() :\n",
    "    chr1=df.loc[df[\"chr\"]==chrname]\n",
    "    chr1 = chr1.loc[chr1[\"Freq\"]>AFreq]\n",
    "    chr1H = np.array((chr1.groupby(chr1[\"pos\"] // Window).count())[\"chr\"])\n",
    "    plt.figure()\n",
    "    plt.stem(np.array(range(len(chr1H)))*Window,chr1H)\n",
    "    plt.xlabel(\"Genomic Location, Window Size = \" + str(Window))\n",
    "    plt.ylabel(\"No. of variants with AF > \" + str(AFreq))\n",
    "    plt.title(chrname)\n",
    "plt.show() \n",
    "\n",
    "#Plot all together\n",
    "#%matplotlib notebook\n",
    "#%matplotlib inline\n",
    "#Window = 50000\n",
    "#AFreq = .8\n",
    "#con = 0\n",
    "#figure, axis = plt.subplots((len(df[\"chr\"].unique()) + 3)//4, 4)\n",
    "#for chrname in df[\"chr\"].unique() :\n",
    "#    chr1=df.loc[df[\"chr\"]==chrname]\n",
    "#    chr1 = chr1.loc[chr1[\"Freq\"]>AFreq]\n",
    "#    chr1H = np.array((chr1.groupby(chr1[\"pos\"] // Window).count())[\"chr\"])\n",
    "#    axis[con//4, con%4].stem(np.array(range(len(chr1H)))*Window,chr1H)\n",
    "#    axis[con//4, con%4].set_title(chrname)\n",
    "#    con = con + 1\n",
    "#plt.show()"
   ]
  },
  {
   "cell_type": "markdown",
   "metadata": {},
   "source": [
    "Finally, let's proceed to annotate each variant"
   ]
  },
  {
   "cell_type": "markdown",
   "metadata": {},
   "source": [
    "### Variant annotation with SnpEff\n",
    "The last step is to identify if any mutation observed has an effect over any coding sequence. For that, we use SNPeff suite. Lets start by moving to the directory analysis"
   ]
  },
  {
   "cell_type": "code",
   "execution_count": null,
   "metadata": {},
   "outputs": [],
   "source": [
    "##Move to main directory \n",
    "os.chdir( path + '/' + DirectoryName )"
   ]
  },
  {
   "cell_type": "markdown",
   "metadata": {},
   "source": [
    "Then, let's run SnpEff on both vcfs produced by GATK algorithms."
   ]
  },
  {
   "cell_type": "code",
   "execution_count": null,
   "metadata": {},
   "outputs": [],
   "source": [
    "###Produce Annotations\n",
    "!java -Xmx{ramG}g -jar {softpath}/SnpEff-5.0/snpEff/snpEff.jar {SnpEffGen} -stats {SampleName}.HC.html {path}/{DirectoryName}/{SampleName}.HC.vcf > {SampleName}.HC.ann.vcf\n",
    "!java -Xmx{ramG}g -jar {softpath}/SnpEff-5.0/snpEff/snpEff.jar {SnpEffGen} -stats {SampleName}.UG.html {path}/{DirectoryName}/{SampleName}.UG.vcf > {SampleName}.UG.ann.vcf \n",
    "\n",
    "if os.path.isfile(SampleName+'.HC.ann.vcf'):\n",
    "    if os.path.isfile(SampleName+'.UG.ann.vcf'):\n",
    "        display(Markdown('<b>\\b</b>'))\n",
    "    else:\n",
    "        display(Markdown('<div class=\\\"alert alert-block alert-danger\\\"><b>Error:</b><br>Annotated UG vcf not present in current path: '+os.getcwd()+'</div>'))\n",
    "else:\n",
    "    display(Markdown('<div class=\\\"alert alert-block alert-danger\\\"><b>Error:</b><br>Annotated HC vcf not present in current path: '+os.getcwd()+'</div>'))"
   ]
  },
  {
   "cell_type": "markdown",
   "metadata": {},
   "source": [
    "Get relevant annotations files (extension `.ann.txt`)"
   ]
  },
  {
   "cell_type": "code",
   "execution_count": null,
   "metadata": {},
   "outputs": [],
   "source": [
    "!cat {SampleName}.HC.ann.vcf | perl {softpath}/SnpEff-5.0/snpEff/scripts/vcfEffOnePerLine.pl | java -Xmx{ramG}g -jar {softpath}/SnpEff-5.0/snpEff/SnpSift.jar extractFields - -s \",\" -e \".\" CHROM POS REF ALT QUAL GEN[{SampleName}].GT GEN[{SampleName}].DP GEN[*].AD \"ANN[*].GENEID\" \"ANN[*].ALLELE\" \"ANN[*].EFFECT\" \"ANN[*].IMPACT\" \"ANN[*].GENE\" \"ANN[*].FEATURE\" \"ANN[*].FEATUREID\" \"ANN[*].BIOTYPE\" \"ANN[*].RANK\" \"ANN[*].HGVS_C\" \"ANN[*].HGVS_P\" \"ANN[*].CDNA_POS\" \"ANN[*].CDNA_LEN\" \"ANN[*].CDS_POS\" \"ANN[*].CDS_LEN\" \"ANN[*].AA_POS\" \"ANN[*].AA_LEN\" \"ANN[*].DISTANCE\" \"LOF[*].GENE\" \"LOF[*].GENEID\" \"NMD[*].GENE\" \"NMD[*].GENEID\" > {SampleName}.HC.ann.txt\n",
    "!cat {SampleName}.UG.ann.vcf | perl {softpath}/SnpEff-5.0/snpEff/scripts/vcfEffOnePerLine.pl | java -Xmx{ramG}g -jar {softpath}/SnpEff-5.0/snpEff/SnpSift.jar extractFields - -s \",\" -e \".\" CHROM POS REF ALT QUAL GEN[{SampleName}].GT GEN[{SampleName}].DP GEN[*].AD \"ANN[*].GENEID\" \"ANN[*].ALLELE\" \"ANN[*].EFFECT\" \"ANN[*].IMPACT\" \"ANN[*].GENE\" \"ANN[*].FEATURE\" \"ANN[*].FEATUREID\" \"ANN[*].BIOTYPE\" \"ANN[*].RANK\" \"ANN[*].HGVS_C\" \"ANN[*].HGVS_P\" \"ANN[*].CDNA_POS\" \"ANN[*].CDNA_LEN\" \"ANN[*].CDS_POS\" \"ANN[*].CDS_LEN\" \"ANN[*].AA_POS\" \"ANN[*].AA_LEN\" \"ANN[*].DISTANCE\" \"LOF[*].GENE\" \"LOF[*].GENEID\" \"NMD[*].GENE\" \"NMD[*].GENEID\" > {SampleName}.UG.ann.txt\n",
    "\n",
    "if os.path.isfile(SampleName+'.HC.ann.txt'):\n",
    "    if os.path.isfile(SampleName+'.UG.ann.txt'):\n",
    "        display(Markdown('<b>\\b</b>'))\n",
    "    else:\n",
    "        display(Markdown('<div class=\\\"alert alert-block alert-danger\\\"><b>Error:</b><br>Annotated UG vcf not present in current path: '+os.getcwd()+'</div>'))\n",
    "else:\n",
    "    display(Markdown('<div class=\\\"alert alert-block alert-danger\\\"><b>Error:</b><br>Annotated HC vcf not present in current path: '+os.getcwd()+'</div>'))"
   ]
  },
  {
   "cell_type": "markdown",
   "metadata": {},
   "source": [
    "And sort them in terms of how impactul they are in respect to the wt gene (files with extension `.ann.sort.txt`)"
   ]
  },
  {
   "cell_type": "code",
   "execution_count": null,
   "metadata": {},
   "outputs": [],
   "source": [
    "## other approach\n",
    "!echo \"#High impact mutations\" > {SampleName}.HC.ann.sort.txt\n",
    "!cat {SampleName}.HC.ann.vcf | perl {softpath}/SnpEff-5.0/snpEff/scripts/vcfEffOnePerLine.pl | java -Xmx{ramG}g -jar {softpath}/SnpEff-5.0/snpEff/SnpSift.jar filter \"ANN[0].IMPACT has 'HIGH'\" | java -Xmx{ramG}g -jar {softpath}/SnpEff-5.0/snpEff/SnpSift.jar extractFields - CHROM POS REF ALT \"ANN[*].GENE\" \"ANN[*].FEATUREID\" \"ANN[*].EFFECT\" \"LOF[*].GENE\" >> {SampleName}.HC.ann.sort.txt\n",
    "!echo \"#Moderate impact mutations\" >> {SampleName}.HC.ann.sort.txt\n",
    "!cat {SampleName}.HC.ann.vcf | perl {softpath}/SnpEff-5.0/snpEff/scripts/vcfEffOnePerLine.pl | java -Xmx{ramG}g -jar {softpath}/SnpEff-5.0/snpEff/SnpSift.jar filter \"ANN[0].IMPACT has 'MODERATE'\" | java -Xmx{ramG}g -jar {softpath}/SnpEff-5.0/snpEff/SnpSift.jar extractFields - CHROM POS REF ALT \"ANN[*].GENE\" \"ANN[*].FEATUREID\" \"ANN[*].EFFECT\" \"LOF[*].GENE\" >> {SampleName}.HC.ann.sort.txt\n",
    "!echo \"#Low impact mutations\" >> {SampleName}.HC.ann.sort.txt\n",
    "!cat {SampleName}.HC.ann.vcf | perl {softpath}/SnpEff-5.0/snpEff/scripts/vcfEffOnePerLine.pl | java -Xmx{ramG}g -jar {softpath}/SnpEff-5.0/snpEff/SnpSift.jar filter \"ANN[0].IMPACT has 'LOW'\" | java -Xmx{ramG}g -jar {softpath}/SnpEff-5.0/snpEff/SnpSift.jar extractFields - CHROM POS REF ALT \"ANN[*].GENE\" \"ANN[*].FEATUREID\" \"ANN[*].EFFECT\" \"LOF[*].GENE\" >> {SampleName}.HC.ann.sort.txt\n",
    "\n",
    "!echo \"#High impact mutations\" > {SampleName}.UG.ann.sort.txt\n",
    "!cat {SampleName}.UG.ann.vcf | perl {softpath}/SnpEff-5.0/snpEff/scripts/vcfEffOnePerLine.pl | java -Xmx{ramG}g -jar {softpath}/SnpEff-5.0/snpEff/SnpSift.jar filter \"ANN[0].IMPACT has 'HIGH'\" | java -Xmx{ramG}g -jar {softpath}/SnpEff-5.0/snpEff/SnpSift.jar extractFields - CHROM POS REF ALT \"ANN[*].GENE\" \"ANN[*].FEATUREID\" \"ANN[*].EFFECT\" \"LOF[*].GENE\" >> {SampleName}.UG.ann.sort.txt\n",
    "!echo \"#Moderate impact mutations\" >> {SampleName}.UG.ann.sort.txt\n",
    "!cat {SampleName}.UG.ann.vcf | perl {softpath}/SnpEff-5.0/snpEff/scripts/vcfEffOnePerLine.pl | java -Xmx{ramG}g -jar {softpath}/SnpEff-5.0/snpEff/SnpSift.jar filter \"ANN[0].IMPACT has 'MODERATE'\" | java -Xmx{ramG}g -jar {softpath}/SnpEff-5.0/snpEff/SnpSift.jar extractFields - CHROM POS REF ALT \"ANN[*].GENE\" \"ANN[*].FEATUREID\" \"ANN[*].EFFECT\" \"LOF[*].GENE\" >> {SampleName}.UG.ann.sort.txt\n",
    "!echo \"#Low impact mutations\" >> {SampleName}.UG.ann.sort.txt\n",
    "!cat {SampleName}.UG.ann.vcf | perl {softpath}/SnpEff-5.0/snpEff/scripts/vcfEffOnePerLine.pl | java -Xmx{ramG}g -jar {softpath}/SnpEff-5.0/snpEff/SnpSift.jar filter \"ANN[0].IMPACT has 'LOW'\" | java -Xmx{ramG}g -jar {softpath}/SnpEff-5.0/snpEff/SnpSift.jar extractFields - CHROM POS REF ALT \"ANN[*].GENE\" \"ANN[*].FEATUREID\" \"ANN[*].EFFECT\" \"LOF[*].GENE\" >> {SampleName}.UG.ann.sort.txt\n",
    "\n",
    "!echo \"First 10 entries in Unified Genotyper variants\"\n",
    "!head {SampleName}.UG.ann.sort.txt\n",
    "!echo \"First 10 entries in Haplotype Caller\"\n",
    "!head {SampleName}.HC.ann.sort.txt"
   ]
  },
  {
   "cell_type": "markdown",
   "metadata": {},
   "source": [
    "Finally, let's produce a link to them:"
   ]
  },
  {
   "cell_type": "code",
   "execution_count": null,
   "metadata": {},
   "outputs": [],
   "source": [
    "display(Markdown('Full reports (open a new tab to see them): \\n' + '* [' + SampleName + ' Unified Genotyper results](./' + DirectoryName + '/' + SampleName +'.UG.html)\\n' + '* [' + SampleName + ' Haplotype Caller results](./' + DirectoryName + '/' + SampleName +'.HC.html)\\n'))"
   ]
  },
  {
   "cell_type": "markdown",
   "metadata": {},
   "source": [
    "**Done**"
   ]
  }
 ],
 "metadata": {
  "kernelspec": {
   "display_name": "Python 3",
   "language": "python",
   "name": "python3"
  },
  "language_info": {
   "codemirror_mode": {
    "name": "ipython",
    "version": 3
   },
   "file_extension": ".py",
   "mimetype": "text/x-python",
   "name": "python",
   "nbconvert_exporter": "python",
   "pygments_lexer": "ipython3",
   "version": "3.7.3"
  }
 },
 "nbformat": 4,
 "nbformat_minor": 2
}
