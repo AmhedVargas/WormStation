{
 "cells": [
  {
   "cell_type": "markdown",
   "metadata": {},
   "source": [
    "# Mapping by sequencing pipeline\n",
    "## Parental strain analysis - Hawaiian tutorial\n",
    "* [Amhed Missael Vargas Velazquez](https://www.researchgate.net/profile/Amhed-Vargas-Velazquez)\n",
    "* Post-doctoral fellow, [SGB lab](https://syngenbio.kaust.edu.sa/), [KAUST](https://www.kaust.edu.sa/en)\n",
    "\n",
    "## Description\n",
    "This jupyter notebook will guide you through the computation used to identify genomic variants in the highly polymorphic *C. elegans* strain CB4856 which was isolated in Hawaii (hence its alias as *Hawaiian*). This step is essential in the [mapping by sequencing](https://www.genetics.org/content/204/2/451) pipeline only if the mapping strain, *a.k.a*. the parental strain, had not been analized before, *i.e.*, you don't have a .vcf file containing background genomic variants. \n",
    "\n",
    "## Software requirements\n",
    "The core instance running this script is Python. However, most of the analysis are performed by other programs (handled by `system calls !`) which have to be installed or, for portability convenience, be present in a folder (check `WGS-Software_configuration` notebook for further details). Note that software in **bold** are the only ones we distribute, the rest must be installed in the computer running this notebook.\n",
    "\n",
    "* [samtools](http://www.htslib.org/)\n",
    "* [bwa](https://github.com/lh3/bwa)\n",
    "* [**GATK**](https://gatk.broadinstitute.org/hc/en-us) [3.7+](https://console.cloud.google.com/storage/browser/gatk-software/package-archive/gatk/); note that current version of GATK (4.0+) uses different nomenclature and have different tools which makes it not compatible with this pipeline. We describe in detail why we stick to this software in the notebook `WGS-Software_configuration`.\n",
    "* [**picard**](https://broadinstitute.github.io/picard/)\n",
    "* [**snpEff**](https://pcingola.github.io/SnpEff/)\n",
    "* [fastQC](https://www.bioinformatics.babraham.ac.uk/projects/fastqc/)\n",
    "* [SRAToolkit](https://github.com/ncbi/sra-tools)\n",
    "* wget\n",
    "* zcat\n",
    "* [R](https://cran.r-project.org/)\n",
    "* perl\n",
    "\n",
    "### Python libraries\n",
    "* os\n",
    "* IPython.display\n",
    "* numpy\n",
    "* pandas\n",
    "* matplotlib\n",
    "\n",
    "### R libraries\n",
    "* ggplot2\n",
    "\n",
    "## Getting started\n",
    "Run the cells below to create a working directory, load the necessary python libraries, and to verify you have the required software."
   ]
  },
  {
   "cell_type": "markdown",
   "metadata": {},
   "source": [
    "### Load python libraries\n",
    "Run the cell below to load essential libraries for the pipeline to work:"
   ]
  },
  {
   "cell_type": "code",
   "execution_count": null,
   "metadata": {},
   "outputs": [],
   "source": [
    "## Load libraries\n",
    "#os to move within directories\n",
    "import os\n",
    "#IPython.display for markdown\n",
    "from IPython.display import display, Markdown\n",
    "#matplotlib, pandas, and numpy for plotting and data analysis respectively\n",
    "import numpy as np\n",
    "import pandas as pd\n",
    "import matplotlib.pyplot as plt"
   ]
  },
  {
   "cell_type": "markdown",
   "metadata": {},
   "source": [
    "### Produce a folder that can be accesed by the pipeline  \n",
    "Before starting any analysis, make sure to select a folder where the analysis will be performed. *Unless* stated otherwise, the analysis will be performed on the **same folder as this notebook**:"
   ]
  },
  {
   "cell_type": "code",
   "execution_count": null,
   "metadata": {},
   "outputs": [],
   "source": [
    "##Set working directory\n",
    "#Same location as script\n",
    "path = os.getcwd()\n",
    "#or somewhere else, e.g.:\n",
    "#path = '/home/jupyter-user/Workstation/user/parental'\n",
    "\n",
    "##Move to path\n",
    "os.chdir(path)\n",
    "\n",
    "##Show current directory to user\n",
    "display(Markdown('<div class=\\\"alert alert-block alert-info\\\">Directory for analysis:<br><b>' + os.getcwd() + '</b></div>'))"
   ]
  },
  {
   "cell_type": "markdown",
   "metadata": {},
   "source": [
    "### Make sure to have the \"stand alone\" software\n",
    "This pipeline requires progams that run in a java environment, and so they come as \"stand-alone\" software. Make sure to have a directory containing the following ones: \n",
    "\n",
    "- GATK +3.7 (GenomeAnalysisTK.jar)\n",
    "- Picard (picard.jar)\n",
    "- SnpEff (folder with both snpEff.jar and SnpSift.jar) \n",
    "\n",
    "For your convenience, we distribute a folder already containing these programs. Just make sure to set properly the path to them, e.g.:"
   ]
  },
  {
   "cell_type": "code",
   "execution_count": null,
   "metadata": {},
   "outputs": [],
   "source": [
    "##Path to software folder\n",
    "softpath = '/home/Wormstation/Software'\n",
    "\n",
    "##GATK v3.8.1.0\n",
    "GATKpath = (softpath + '/gatk-3.8.1.0')\n",
    "\n",
    "##Picard v2.23.6 \n",
    "PiKpath = (softpath + '/picard2.23.6')\n",
    "\n",
    "##SnpEff v.0\n",
    "Snpath = (softpath + '/SnpEff-5.0/snpEff')\n",
    "\n",
    "##Alternative paths\n",
    "#GATKpath = ''\n",
    "#PiKpath = ''\n",
    "#Snpath = ''\n",
    "\n",
    "##Check if jar files are there\n",
    "##Notify user if GATK .jar is present or not\n",
    "if os.path.isfile(GATKpath + '/GenomeAnalysisTK.jar'):\n",
    "    display(Markdown('<div class=\\\"alert alert-block alert-success\\\"><b>\\b GATK</b></div>'))\n",
    "else:\n",
    "    display(Markdown('<div class=\\\"alert alert-block alert-danger\\\"><b>Error:</b><br>GATK not found in: ' + GATKpath +'</div>'))\n",
    "\n",
    "##Notify user if Picard .jar is present or not\n",
    "if os.path.isfile(PiKpath + '/picard.jar'):\n",
    "    display(Markdown('<div class=\\\"alert alert-block alert-success\\\"><b>\\b Picard</b></div>'))\n",
    "else:\n",
    "    display(Markdown('<div class=\\\"alert alert-block alert-danger\\\"><b>Error:</b><br>Picard not found in: ' + PiKpath +'</div>'))\n",
    "\n",
    "##Notify user if SnpEff .jar is present or not\n",
    "if os.path.isfile(Snpath + '/snpEff.jar'):\n",
    "    display(Markdown('<div class=\\\"alert alert-block alert-success\\\"><b>\\b SnpEff</b></div>'))\n",
    "else:\n",
    "    display(Markdown('<div class=\\\"alert alert-block alert-danger\\\"><b>Error:</b><br>SnpEff not found in: ' + GATKpath +'</div>'))"
   ]
  },
  {
   "cell_type": "markdown",
   "metadata": {},
   "source": [
    "In the case that a new version of a program is needed or the software configuration has changed, please check the jupyter notebook `WGS-Software_configuration`. This notebook indicates where and how to set up the programs needed for the pipeline."
   ]
  },
  {
   "cell_type": "markdown",
   "metadata": {},
   "source": [
    "### Make sure to have a reference genome\n",
    "In order to run this pipeline, a *C. elegans* reference genome is needed (preferentially in fasta format). The cells below allows you to prepare your reference file or to download the *C. elegans* ce11/WS235 version from Ensemble.\n",
    "\n",
    "First, download or specify the location of your reference genome:"
   ]
  },
  {
   "cell_type": "code",
   "execution_count": null,
   "metadata": {},
   "outputs": [],
   "source": [
    "##Specify the location of the genome of Reference\n",
    "#e.g.\n",
    "#RefFile=('/home/Wormstation/data/Caenorhabditis_elegans.fa')\n",
    "\n",
    "###OR\n",
    "\n",
    "##Download ce11 into a new folder called data\n",
    "!mkdir -p {path}/data\n",
    "\n",
    "os.chdir(path+'/data')\n",
    "\n",
    "!wget -q ftp://ftp.ensembl.org/pub/release-99/fasta/caenorhabditis_elegans/dna/Caenorhabditis_elegans.WBcel235.dna_sm.toplevel.fa.gz\n",
    "\n",
    "!zcat Caenorhabditis_elegans.WBcel235.dna_sm.toplevel.fa.gz > Caenorhabditis_elegans.WBcel235.99.softmasked.fa\n",
    "\n",
    "RefFile=(path+'/data/'+'Caenorhabditis_elegans.WBcel235.99.softmasked.fa')\n",
    "\n",
    "##Notify user if file present or not\n",
    "if os.path.isfile(RefFile):\n",
    "    display(Markdown('<div class=\\\"alert alert-block alert-success\\\"><b>Reference Genome :</b>\\n'+RefFile+'</div>'))\n",
    "else:\n",
    "    display(Markdown('<div class=\\\"alert alert-block alert-danger\\\"><b>Error:</b><br>Reference file: '+RefFile+' does not exists</div>'))"
   ]
  },
  {
   "cell_type": "markdown",
   "metadata": {},
   "source": [
    "Then it need to be indexed by samtools:"
   ]
  },
  {
   "cell_type": "code",
   "execution_count": null,
   "metadata": {},
   "outputs": [],
   "source": [
    "!samtools faidx {RefFile}\n",
    "\n",
    "##Notify user if this step was sucessfull\n",
    "if os.path.isfile(RefFile+'.fai'):\n",
    "    display(Markdown('<b>\\b</b>'))\n",
    "else:\n",
    "    display(Markdown('<div class=\\\"alert alert-block alert-danger\\\"><b>Error:</b><br>Index file not produced for '+RefFile+'</div>'))"
   ]
  },
  {
   "cell_type": "markdown",
   "metadata": {},
   "source": [
    "And bwa:"
   ]
  },
  {
   "cell_type": "code",
   "execution_count": null,
   "metadata": {},
   "outputs": [],
   "source": [
    "!bwa index {RefFile} > /dev/null 2>&1\n",
    "\n",
    "##Notify user if this step was sucessfull\n",
    "if os.path.isfile(RefFile+'.bwt'):\n",
    "    display(Markdown('<b>\\b</b>'))\n",
    "else:\n",
    "    display(Markdown('<div class=\\\"alert alert-block alert-danger\\\"><b>Error:</b><br>Index file not produced for '+RefFile+'</div>'))"
   ]
  },
  {
   "cell_type": "markdown",
   "metadata": {},
   "source": [
    "And by picard tools:"
   ]
  },
  {
   "cell_type": "code",
   "execution_count": null,
   "metadata": {},
   "outputs": [],
   "source": [
    "RefFilebase=''.join(RefFile.split('.')[:-1])\n",
    "!java -jar {softpath}/picard2.23.6/picard.jar CreateSequenceDictionary R={RefFile} O={RefFilebase +'.dict'} > /dev/null 2>&1\n",
    "\n",
    "##Notify user if this step was sucessfull\n",
    "if os.path.isfile(RefFilebase +'.dict'):\n",
    "    display(Markdown('<b>\\b</b>'))\n",
    "else:\n",
    "    display(Markdown('<div class=\\\"alert alert-block alert-danger\\\"><b>Error:</b><br>Index file not produced for '+RefFile+'</div>'))"
   ]
  },
  {
   "cell_type": "markdown",
   "metadata": {},
   "source": [
    "Now your reference genome is ready for the analysis in this pipeline."
   ]
  },
  {
   "cell_type": "code",
   "execution_count": null,
   "metadata": {},
   "outputs": [],
   "source": [
    "ReferenceGenome = RefFile"
   ]
  },
  {
   "cell_type": "markdown",
   "metadata": {},
   "source": [
    "## Brief introduction\n",
    "Whole Genome Sequencing (WGS) has revolutionized how we identify genes that act in the development of a phenotype. For a short historical review check this [timeline of *C. elegans* research](https://www.hobertlab.org/wp-content/uploads/2013/03/Ankeny_2001.pdf) and for a better understanding read the Wormbook chapter on [NGS methods to map mutations in *C. elegans*](https://www.genetics.org/content/204/2/451).\n",
    "\n",
    "This jupyter notebook will guide you through the computation used to identify genomic variants in the highly polymorphic *C. elegans* strain CB4856 which was isolated in Hawaii (hence its alias as Hawaiian). Once we obtain the genomic variants present in the Hawaiian strain, we would be able to use the mapping by sequencing technique (check the `WGS-Mutant_strain-Hawaiian_tutorial` notebook for the next step)."
   ]
  },
  {
   "cell_type": "markdown",
   "metadata": {},
   "source": [
    "### Hawaiian strain\n",
    "\n",
    "CB4856 was first described in [Koch *et al.*](https://genome.cshlp.org/content/10/11/1690.full.pdf) as one of the most evolutionary divergent strains of *C. elegans* (possibly due to its isolation from the mainland). Indeed, it has been calculated that differs in average 1 SNP every 840 bp in comparison to the *C. elegans* reference strain N2 ([Maydan *et al.*](https://genome.cshlp.org/content/17/3/337.long)). This notebook contains the commands used to identify the genomic variants between these two strains. First, we require to obtain the sequencing data of the Hawaiian strain. For this pipeline, we will be using the data stored in NCBI SRA coming from [Erik Andernsen's lab](https://andersenlab.org/)."
   ]
  },
  {
   "cell_type": "markdown",
   "metadata": {},
   "source": [
    "We will use `wget` to download the CB4856 SRA file and the `SRAToolkit` to convert it back to fastq files:"
   ]
  },
  {
   "cell_type": "code",
   "execution_count": null,
   "metadata": {},
   "outputs": [],
   "source": [
    "## SRR2003569: https://trace.ncbi.nlm.nih.gov/Traces/sra/?run=SRR2003569\n",
    "!wget -q https://sra-pub-run-odp.s3.amazonaws.com/sra/SRR2003569/SRR2003569\n",
    "\n",
    "##Dump files into fastq files\n",
    "!fastq-dump --split-files SRR2003569"
   ]
  },
  {
   "cell_type": "markdown",
   "metadata": {},
   "source": [
    "Alternatively, you can copy the sequencing reads from our internal folder:"
   ]
  },
  {
   "cell_type": "code",
   "execution_count": null,
   "metadata": {},
   "outputs": [],
   "source": [
    "#!cp /home/Wormstation/data/SRR2003569_1.fastq .\n",
    "#!cp /home/Wormstation/data/SRR2003569_2.fastq ."
   ]
  },
  {
   "cell_type": "code",
   "execution_count": null,
   "metadata": {},
   "outputs": [],
   "source": [
    "##Verify if files were properly obtained\n",
    "#SRR2003569_1.fastq\n",
    "if os.path.isfile('SRR2003569_1.fastq'):\n",
    "    display(Markdown('<b>SRR2003569_1.fastq \\b</b>'))\n",
    "else:\n",
    "    display(Markdown('<div class=\\\"alert alert-block alert-danger\\\"><b>Error:</b><br>The file SRR2003569_1.fastq is not present in current path: '+os.getcwd()+'</div>'))\n",
    "\n",
    "#SRR2003569_2.fastq\n",
    "if os.path.isfile('SRR2003569_2.fastq'):\n",
    "    display(Markdown('<b>SRR2003569_2.fastq \\b</b>'))\n",
    "else:\n",
    "    display(Markdown('<div class=\\\"alert alert-block alert-danger\\\"><b>Error:</b><br>The file SRR2003569_2.fastq is not present in current path: '+os.getcwd()+'</div>'))"
   ]
  },
  {
   "cell_type": "markdown",
   "metadata": {},
   "source": [
    "## Data analysis workflow\n",
    "The common pipeline consist on:\n",
    "* Quality assesment of sequencing reads via FastQC\n",
    "* Mapping of reads with bwa\n",
    "* Filtering and processing of alignment file with samtools\n",
    "* Realigment with GATK\n",
    "* Variant calling with GATK HC and UG\n",
    "* Mutational analysis with SnpEff\n"
   ]
  },
  {
   "cell_type": "markdown",
   "metadata": {},
   "source": [
    "But before that, lets create a directory where the analysis will be executed:"
   ]
  },
  {
   "cell_type": "code",
   "execution_count": null,
   "metadata": {},
   "outputs": [],
   "source": [
    "##Move to that directory\n",
    "os.chdir(path)\n",
    "##Create directory to place data\n",
    "!mkdir -p {path}/analysis\n",
    "##Move to that directory\n",
    "os.chdir( path + '/analysis' )"
   ]
  },
  {
   "cell_type": "markdown",
   "metadata": {},
   "source": [
    "And lets define the parameters for the pipeline:"
   ]
  },
  {
   "cell_type": "code",
   "execution_count": null,
   "metadata": {},
   "outputs": [],
   "source": [
    "##Inputs\n",
    "#Name\n",
    "SampleName = 'CB4856'\n",
    "#File 1\n",
    "FastqF1 = (path + '/data/SRR2003569_1.fastq') \n",
    "#File 2\n",
    "FastqF2 = (path + '/data/SRR2003569_2.fastq')\n",
    "#Reference Indexed\n",
    "#ReferenceGenome = (path + '/data/Caenorhabditis_elegans.WBcel235.99.softmasked.fa')\n",
    "#Reference library for SnpEff\n",
    "SnpEffGen = 'WBcel235.99'\n",
    "\n",
    "##Parameters\n",
    "#Minimal quality for bam\n",
    "minMaqQforBam = 1\n",
    "#Minimum quality for vcf filtering\n",
    "minMaqQforVcf = 10\n",
    "#Minimum basequality for variant calling\n",
    "minBaseQforVcf = 10\n",
    "#Minimum depth at position\n",
    "minVarCall = 10\n",
    "#Number of threats\n",
    "Ncpu=4\n",
    "#Ram for java\n",
    "ramG=20"
   ]
  },
  {
   "cell_type": "markdown",
   "metadata": {},
   "source": [
    "### Quality assesment of Fastq files\n",
    "A simple way to verify the quality of your sequencing runs is via the FastQC program. The following cells will make a directory to run the analysis and output its results."
   ]
  },
  {
   "cell_type": "code",
   "execution_count": null,
   "metadata": {},
   "outputs": [],
   "source": [
    "##Create directory to place data\n",
    "!mkdir -p FastQC\n",
    "##Move to that directory\n",
    "os.chdir(path + '/analysis/FastQC')"
   ]
  },
  {
   "cell_type": "code",
   "execution_count": null,
   "metadata": {},
   "outputs": [],
   "source": [
    "##Perform fastQC analysis\n",
    "!fastqc -t {Ncpu} {FastqF1} {FastqF2} -o . > /dev/null 2>&1\n",
    "\n",
    "##Notify user if this step was sucessfull\n",
    "tempname1 = FastqF1.split(\"/\")[-1]\n",
    "tempname1 = tempname1.split(\".fastq\")[0]\n",
    "if os.path.isfile(tempname1 + '_fastqc.html'):\n",
    "    #display(Markdown('<div class=\\\"alert alert-block alert-success\\\">'))\n",
    "    !unzip -o -qq \\*.zip\n",
    "    display(Markdown('<b>Metrics:</b>'))\n",
    "    tempname1 = FastqF1.split(\"/\")[-1]\n",
    "    tempname1 = tempname1.split(\".fastq\")[0]\n",
    "    print(tempname1)\n",
    "    !cat {tempname1}_fastqc/summary.txt\n",
    "    tempname2 = FastqF2.split(\"/\")[-1]\n",
    "    tempname2 = tempname2.split(\".fastq\")[0]\n",
    "    print(tempname2)\n",
    "    !cat {tempname2}_fastqc/summary.txt\n",
    "    display(Markdown('<b>\\b</b>'))\n",
    "else:\n",
    "    display(Markdown('<div class=\\\"alert alert-block alert-danger\\\"><b>Error:</b><br>FASTQC report not produced in current directory: '+os.getcwd()+'</div>'))\n"
   ]
  },
  {
   "cell_type": "markdown",
   "metadata": {},
   "source": [
    "#### HTML reports\n",
    "Run the cell below to link the FastQC results to this notebook."
   ]
  },
  {
   "cell_type": "code",
   "execution_count": null,
   "metadata": {},
   "outputs": [],
   "source": [
    "display(Markdown('Full reports (open a new tab to see them): \\n' + '* [' + tempname1 + '](./analysis/FastQC/' + tempname1 +'_fastqc.html)\\n' + '* [' + tempname2 + '](./analysis/FastQC/' + tempname2 +'_fastqc.html)\\n'))"
   ]
  },
  {
   "cell_type": "markdown",
   "metadata": {},
   "source": [
    "### Mapping reads to reference genome using bwa"
   ]
  },
  {
   "cell_type": "markdown",
   "metadata": {},
   "source": [
    "After assesed the quality of the Fastq reads, we will map them to the reference genome using bwa. For that running the cells belows will produce a directory where the analysis will be performed."
   ]
  },
  {
   "cell_type": "code",
   "execution_count": null,
   "metadata": {},
   "outputs": [],
   "source": [
    "##Move to analysis\n",
    "os.chdir(path + '/analysis/')\n",
    "##Create directory to place data\n",
    "!mkdir -p Alignments\n",
    "##Move to that directory\n",
    "os.chdir(path + '/analysis/Alignments')"
   ]
  },
  {
   "cell_type": "code",
   "execution_count": null,
   "metadata": {},
   "outputs": [],
   "source": [
    "!bwa mem -t {Ncpu} -M {ReferenceGenome} {FastqF1} {FastqF2} -o {SampleName}.sam > /dev/null 2>&1\n",
    "\n",
    "##Notify user if previous step was sucessfull\n",
    "if os.path.isfile(SampleName+'.sam'):\n",
    "    #display(Markdown('<div class=\\\"alert alert-block alert-success\\\">\\b</div>'))\n",
    "    display(Markdown('<b>\\b</b>'))\n",
    "else:\n",
    "    display(Markdown('<div class=\\\"alert alert-block alert-danger\\\"><b>Error:</b><br>Sam file not present in current path: '+os.getcwd()+'</div>'))"
   ]
  },
  {
   "cell_type": "markdown",
   "metadata": {},
   "source": [
    "Now lets transform to bam"
   ]
  },
  {
   "cell_type": "code",
   "execution_count": null,
   "metadata": {},
   "outputs": [],
   "source": [
    "!samtools view -@ {Ncpu} -S -bh {SampleName}.sam | samtools sort -@ {Ncpu} - > {SampleName}.bam\n",
    "\n",
    "if os.path.isfile(SampleName+'.bam'):\n",
    "    #display(Markdown('<div class=\\\"alert alert-block alert-success\\\">\\b</div>'))\n",
    "    display(Markdown('<b>\\b</b>'))\n",
    "else:\n",
    "    display(Markdown('<div class=\\\"alert alert-block alert-danger\\\"><b>Error:</b><br>Sam file not present in current path: '+os.getcwd()+'</div>'))"
   ]
  },
  {
   "cell_type": "markdown",
   "metadata": {},
   "source": [
    "Now lets index"
   ]
  },
  {
   "cell_type": "code",
   "execution_count": null,
   "metadata": {},
   "outputs": [],
   "source": [
    "!samtools index {SampleName}.bam\n",
    "\n",
    "if os.path.isfile(SampleName+'.bam.bai'):\n",
    "    #display(Markdown('<div class=\\\"alert alert-block alert-success\\\">\\b</div>'))\n",
    "    display(Markdown('<b>\\b</b>'))\n",
    "else:\n",
    "    display(Markdown('<div class=\\\"alert alert-block alert-danger\\\"><b>Error:</b><br>Index file not present in current path: '+os.getcwd()+'</div>'))"
   ]
  },
  {
   "cell_type": "markdown",
   "metadata": {},
   "source": [
    "Filter for mapping quality"
   ]
  },
  {
   "cell_type": "code",
   "execution_count": null,
   "metadata": {},
   "outputs": [],
   "source": [
    "!samtools view -@ {Ncpu} -q {minMaqQforBam} -bh {SampleName}.bam > {SampleName}.SF.bam\n",
    "\n",
    "if os.path.isfile(SampleName+'.SF.bam'):\n",
    "    #display(Markdown('<div class=\\\"alert alert-block alert-success\\\">\\b</div>'))\n",
    "    display(Markdown('<b>\\b</b>'))\n",
    "else:\n",
    "    display(Markdown('<div class=\\\"alert alert-block alert-danger\\\"><b>Error:</b><br>Filtered file not present in current path: '+os.getcwd()+'</div>'))"
   ]
  },
  {
   "cell_type": "markdown",
   "metadata": {},
   "source": [
    "Then add and replace groups via picard"
   ]
  },
  {
   "cell_type": "code",
   "execution_count": null,
   "metadata": {},
   "outputs": [],
   "source": [
    "!java -Xmx{ramG}g -jar {softpath}/picard2.23.6/picard.jar AddOrReplaceReadGroups I={SampleName}.SF.bam O={SampleName}.RG.bam RGID={SampleName} RGLB=LB RGPL=illumina RGPU=PU RGSM={SampleName} > /dev/null 2>&1\n",
    "\n",
    "if os.path.isfile(SampleName+'.RG.bam'):\n",
    "    #display(Markdown('<div class=\\\"alert alert-block alert-success\\\">\\b</div>'))\n",
    "    display(Markdown('<b>\\b</b>'))\n",
    "else:\n",
    "    display(Markdown('<div class=\\\"alert alert-block alert-danger\\\"><b>Error:</b><br>Read groups file not present in current path: '+os.getcwd()+'</div>'))"
   ]
  },
  {
   "cell_type": "markdown",
   "metadata": {},
   "source": [
    "Then we mark duplicates"
   ]
  },
  {
   "cell_type": "code",
   "execution_count": null,
   "metadata": {},
   "outputs": [],
   "source": [
    "!java -Xmx{ramG}g -jar {softpath}/picard2.23.6/picard.jar MarkDuplicates I={SampleName}.RG.bam O={SampleName}.Dup.bam M={SampleName}.dedupMetrics REMOVE_DUPLICATES=true > /dev/null 2>&1\n",
    "\n",
    "if os.path.isfile(SampleName+'.Dup.bam'):\n",
    "    display(Markdown('<b>\\b</b>'))\n",
    "else:\n",
    "    display(Markdown('<div class=\\\"alert alert-block alert-danger\\\"><b>Error:</b><br>Aligment withouth duplicates file not present in current path: '+os.getcwd()+'</div>'))"
   ]
  },
  {
   "cell_type": "markdown",
   "metadata": {},
   "source": [
    "And finally, index the resulting bam file"
   ]
  },
  {
   "cell_type": "code",
   "execution_count": null,
   "metadata": {},
   "outputs": [],
   "source": [
    "!samtools index {SampleName}.Dup.bam\n",
    "\n",
    "if os.path.isfile(SampleName+'.Dup.bam.bai'):\n",
    "    #display(Markdown('<div class=\\\"alert alert-block alert-success\\\">\\b</div>'))\n",
    "    display(Markdown('<b>\\b</b>'))\n",
    "else:\n",
    "    display(Markdown('<div class=\\\"alert alert-block alert-danger\\\"><b>Error:</b><br>Index file not present in current path: '+os.getcwd()+'</div>'))"
   ]
  },
  {
   "cell_type": "markdown",
   "metadata": {},
   "source": [
    "### Local realigment of reads around indels via GATK\n",
    "Let's now proceed to re-align the reads to do better calling around indels. For that, we start by identifying the location of possible indes via GATK"
   ]
  },
  {
   "cell_type": "code",
   "execution_count": null,
   "metadata": {},
   "outputs": [],
   "source": [
    "!java -Xmx{ramG}g -jar {softpath}/gatk-3.8.1.0/GenomeAnalysisTK.jar -T RealignerTargetCreator -nt {Ncpu} -R {ReferenceGenome} -I {SampleName}.Dup.bam -o {SampleName}.Indel.intervals > /dev/null 2>&1\n",
    "\n",
    "if os.path.isfile(SampleName+'.Indel.intervals'):\n",
    "    #display(Markdown('<div class=\\\"alert alert-block alert-success\\\">\\b</div>'))\n",
    "    display(Markdown('<b>\\b</b>'))\n",
    "else:\n",
    "    display(Markdown('<div class=\\\"alert alert-block alert-danger\\\"><b>Error:</b><br>File with realigned indels not present in current path: '+os.getcwd()+'</div>'))"
   ]
  },
  {
   "cell_type": "markdown",
   "metadata": {},
   "source": [
    "And then we proceed to perform realigment around the spotted regions"
   ]
  },
  {
   "cell_type": "code",
   "execution_count": null,
   "metadata": {},
   "outputs": [],
   "source": [
    "!java -Xmx{ramG}g -jar {softpath}/gatk-3.8.1.0/GenomeAnalysisTK.jar -T IndelRealigner -R {ReferenceGenome} -I {SampleName}.Dup.bam -targetIntervals {SampleName}.Indel.intervals -o {SampleName}.realigned.bam > /dev/null 2>&1\n",
    "\n",
    "if os.path.isfile(SampleName+'.realigned.bam'):\n",
    "    display(Markdown('<b>\\b</b>'))\n",
    "else:\n",
    "    display(Markdown('<div class=\\\"alert alert-block alert-danger\\\"><b>Error:</b><br>Realigned bam not present in current path: '+os.getcwd()+'</div>'))"
   ]
  },
  {
   "cell_type": "markdown",
   "metadata": {},
   "source": [
    "Check files present and remove temporal files"
   ]
  },
  {
   "cell_type": "code",
   "execution_count": null,
   "metadata": {},
   "outputs": [],
   "source": [
    "if os.path.isfile(SampleName+'.realigned.bam'):\n",
    "    display(Markdown('<div class=\\\"alert alert-block alert-success\\\"><b>\\b Mapping step complete</b></div>'))\n",
    "else:\n",
    "    display(Markdown('<div class=\\\"alert alert-block alert-danger\\\"><b>Error:</b><br>Realigned bam not present in current path: '+os.getcwd()+'<br>Either the path is wrong or cells above have to be run again</div>'))"
   ]
  },
  {
   "cell_type": "markdown",
   "metadata": {},
   "source": [
    "Now is time for variant calling"
   ]
  },
  {
   "cell_type": "markdown",
   "metadata": {},
   "source": [
    "Though feel free to check the mapping file using tablet/igv. You can download the bam and the index file from:"
   ]
  },
  {
   "cell_type": "code",
   "execution_count": null,
   "metadata": {},
   "outputs": [],
   "source": [
    "display(Markdown('Download bam files (right-click and \\\"save as\\\"): \\n' + '* [' + SampleName + '.realigned.bam](./analysis/Alignments/' + SampleName +'.realigned.bam)\\n' + '* [' + SampleName + '.realigned.bam.bai](./analysis/Alignments/' + SampleName +'.realigned.bam.bai)\\n'))"
   ]
  },
  {
   "cell_type": "markdown",
   "metadata": {},
   "source": [
    "### Variant calling\n",
    "Now that our reads are properly aligned, lets do variant calling. To start, let's make a new directory where the analysis will be run and the results reported."
   ]
  },
  {
   "cell_type": "code",
   "execution_count": null,
   "metadata": {},
   "outputs": [],
   "source": [
    "##Move to analysis\n",
    "os.chdir(path + '/analysis/')\n",
    "##Create directory to place data\n",
    "!mkdir -p VariantCalling\n",
    "##Move to that directory\n",
    "os.chdir(path + '/analysis/VariantCalling')"
   ]
  },
  {
   "cell_type": "markdown",
   "metadata": {},
   "source": [
    "This pipeline uses two different GATK variant callers, those being Unified Genotyper (UG) and Haplotype Caller (HC). Both should produce good calls though some pipelines preffer the use of HC given its confidence metrics."
   ]
  },
  {
   "cell_type": "markdown",
   "metadata": {},
   "source": [
    "#### Unified genotyper\n",
    "The code below produces a vcf via GATK's unified genotyper tool"
   ]
  },
  {
   "cell_type": "code",
   "execution_count": null,
   "metadata": {},
   "outputs": [],
   "source": [
    "!java -Xmx{ramG}g -jar {softpath}/gatk-3.8.1.0/GenomeAnalysisTK.jar -T UnifiedGenotyper -R {ReferenceGenome} -nt {Ncpu} -l INFO -glm BOTH -I {path}/analysis/Alignments/{SampleName}.realigned.bam -o {SampleName}.UG.vcf -mbq {minBaseQforVcf} -stand_call_conf {minVarCall} > /dev/null 2>&1\n",
    "\n",
    "if os.path.isfile(SampleName+'.UG.vcf'):\n",
    "    display(Markdown('<b>\\b</b>'))\n",
    "else:\n",
    "    display(Markdown('<div class=\\\"alert alert-block alert-danger\\\"><b>Error:</b><br>Realigned bam not present in current path: '+os.getcwd()+'</div>'))"
   ]
  },
  {
   "cell_type": "markdown",
   "metadata": {},
   "source": [
    "#### Haplotype caller\n",
    "Before calling variants vie GATK haplotype caller, we need to produce confidence values for each site and store them into a g.vcf file"
   ]
  },
  {
   "cell_type": "code",
   "execution_count": null,
   "metadata": {},
   "outputs": [],
   "source": [
    "!java -Xmx{ramG}g -jar {softpath}/gatk-3.8.1.0/GenomeAnalysisTK.jar -T HaplotypeCaller --emitRefConfidence GVCF -R {ReferenceGenome} -l INFO -I {path}/analysis/Alignments/{SampleName}.realigned.bam -o {SampleName}.g.vcf -mbq {minBaseQforVcf} -mmq {minMaqQforVcf} -stand_call_conf {minVarCall} > /dev/null 2>&1\n",
    "\n",
    "if os.path.isfile(SampleName+'.g.vcf'):\n",
    "    display(Markdown('<b>\\b</b>'))\n",
    "else:\n",
    "    display(Markdown('<div class=\\\"alert alert-block alert-danger\\\"><b>Error:</b><br>Realigned bam not present in current path: '+os.getcwd()+'</div>'))"
   ]
  },
  {
   "cell_type": "markdown",
   "metadata": {},
   "source": [
    "After that, we can proceed to call the vcf from the g.vcf"
   ]
  },
  {
   "cell_type": "code",
   "execution_count": null,
   "metadata": {},
   "outputs": [],
   "source": [
    "!java -Xmx{ramG}g -jar {softpath}/gatk-3.8.1.0/GenomeAnalysisTK.jar -T GenotypeGVCFs -R {ReferenceGenome} -nt {Ncpu} -l INFO -V {SampleName}.g.vcf -dt none -o {SampleName}.HC.vcf  > /dev/null 2>&1\n",
    "\n",
    "if os.path.isfile(SampleName+'.HC.vcf'):\n",
    "    display(Markdown('<b>\\b</b>'))\n",
    "else:\n",
    "    display(Markdown('<div class=\\\"alert alert-block alert-danger\\\"><b>Error:</b><br>Realigned bam not present in current path: '+os.getcwd()+'</div>'))"
   ]
  },
  {
   "cell_type": "code",
   "execution_count": null,
   "metadata": {},
   "outputs": [],
   "source": [
    "## Check if HC vcf is done\n",
    "if os.path.isfile(SampleName+'.HC.vcf'):\n",
    "    display(Markdown('<div class=\\\"alert alert-block alert-success\\\"><b>\\b Haplotype Caller complete</b></div>'))\n",
    "else:\n",
    "    display(Markdown('<div class=\\\"alert alert-block alert-danger\\\"><b>Error:</b><br>Realigned bam not present in current path: '+os.getcwd()+'<br>Either the path is wrong or cells above have to be run again</div>'))\n",
    "    \n",
    "## Check if UG vcf is done\n",
    "if os.path.isfile(SampleName+'.UG.vcf'):\n",
    "    display(Markdown('<div class=\\\"alert alert-block alert-success\\\"><b>\\b Unified Genotypifier complete</b></div>'))\n",
    "else:\n",
    "    display(Markdown('<div class=\\\"alert alert-block alert-danger\\\"><b>Error:</b><br>Realigned bam not present in current path: '+os.getcwd()+'<br>Either the path is wrong or cells above have to be run again</div>'))\n"
   ]
  },
  {
   "cell_type": "markdown",
   "metadata": {},
   "source": [
    "Now, for each vcf let's plot the distribution of the analized variants with python. First the vcf produced with haplotype caller"
   ]
  },
  {
   "cell_type": "code",
   "execution_count": null,
   "metadata": {},
   "outputs": [],
   "source": [
    "df = pd.read_csv((SampleName+'.HC.vcf'),delimiter='\\t',comment='#', names=[\"chr\",\"pos\",\"id\",\"ref\",\"alt\",\"qual\",\"filter\",\"info\",\"format\",SampleName])\n",
    "\n",
    "strarray= df[SampleName]\n",
    "\n",
    "RefD=[]\n",
    "AltD=[]\n",
    "Freq=[]\n",
    "for i in range(len(strarray)):\n",
    "    deps=(strarray[i].split(':'))[1].split(',')\n",
    "    RefD.append(int(deps[0]))\n",
    "    AltD.append(int(deps[1]))\n",
    "    tmpfre=int(deps[0]) + int(deps[1])\n",
    "    if tmpfre > 0 :\n",
    "        Freq.append(int(deps[1])/(int(deps[0]) + int(deps[1])))\n",
    "    else :\n",
    "        Freq.append(0)\n",
    "\n",
    "df['RefD']=RefD\n",
    "df['AltD']=AltD\n",
    "df['Freq']=Freq\n",
    "\n",
    "##Plot as separated interactive plot\n",
    "%matplotlib notebook\n",
    "#%matplotlib inline\n",
    "Window = 50000\n",
    "AFreq = .8\n",
    "display(Markdown('<b>'+SampleName+' Haplotype Caller; Number of variants above an allele frequency >'+str(AFreq)+' in '+str(Window)+'bp non-overlapping windows</b>'))\n",
    "\n",
    "for chrname in df[\"chr\"].unique() :\n",
    "    chr1=df.loc[df[\"chr\"]==chrname]\n",
    "    chr1 = chr1.loc[chr1[\"Freq\"]>AFreq]\n",
    "    chr1H = np.array((chr1.groupby(chr1[\"pos\"] // Window).count())[\"chr\"])\n",
    "    plt.figure()\n",
    "    plt.stem(np.array(range(len(chr1H)))*Window,chr1H)\n",
    "    plt.xlabel(\"Genomic Location, Window Size = \" + str(Window))\n",
    "    plt.ylabel(\"No. of variants with AF > \" + str(AFreq))\n",
    "    plt.title(chrname)\n",
    "plt.show() \n",
    "\n",
    "#Plot all together\n",
    "#%matplotlib notebook\n",
    "#%matplotlib inline\n",
    "#Window = 50000\n",
    "#AFreq = .8\n",
    "#con = 0\n",
    "#figure, axis = plt.subplots((len(df[\"chr\"].unique()) + 3)//4, 4)\n",
    "#for chrname in df[\"chr\"].unique() :\n",
    "#    chr1=df.loc[df[\"chr\"]==chrname]\n",
    "#    chr1 = chr1.loc[chr1[\"Freq\"]>AFreq]\n",
    "#    chr1H = np.array((chr1.groupby(chr1[\"pos\"] // Window).count())[\"chr\"])\n",
    "#    axis[con//4, con%4].stem(np.array(range(len(chr1H)))*Window,chr1H)\n",
    "#    axis[con//4, con%4].set_title(chrname)\n",
    "#    con = con + 1\n",
    "#plt.show() "
   ]
  },
  {
   "cell_type": "markdown",
   "metadata": {},
   "source": [
    "And then Unified genotyper"
   ]
  },
  {
   "cell_type": "code",
   "execution_count": null,
   "metadata": {},
   "outputs": [],
   "source": [
    "df = pd.read_csv((SampleName+'.UG.vcf'),delimiter='\\t',comment='#', names=[\"chr\",\"pos\",\"id\",\"ref\",\"alt\",\"qual\",\"filter\",\"info\",\"format\",SampleName])\n",
    "\n",
    "strarray= df[SampleName]\n",
    "\n",
    "RefD=[]\n",
    "AltD=[]\n",
    "Freq=[]\n",
    "for i in range(len(strarray)):\n",
    "    deps=(strarray[i].split(':'))[1].split(',')\n",
    "    RefD.append(int(deps[0]))\n",
    "    AltD.append(int(deps[1]))\n",
    "    tmpfre=int(deps[0]) + int(deps[1])\n",
    "    if tmpfre > 0 :\n",
    "        Freq.append(int(deps[1])/(int(deps[0]) + int(deps[1])))\n",
    "    else :\n",
    "        Freq.append(0)\n",
    "\n",
    "df['RefD']=RefD\n",
    "df['AltD']=AltD\n",
    "df['Freq']=Freq\n",
    "\n",
    "##Plot as separated interactive plot\n",
    "%matplotlib notebook\n",
    "#%matplotlib inline\n",
    "Window = 50000\n",
    "AFreq = .8\n",
    "display(Markdown('<b>'+SampleName+' Unified Genotyper; Number of variants above an allele frequency >'+str(AFreq)+' in '+str(Window)+'bp non-overlapping windows</b>'))\n",
    "\n",
    "for chrname in df[\"chr\"].unique() :\n",
    "    chr1=df.loc[df[\"chr\"]==chrname]\n",
    "    chr1 = chr1.loc[chr1[\"Freq\"]>AFreq]\n",
    "    chr1H = np.array((chr1.groupby(chr1[\"pos\"] // Window).count())[\"chr\"])\n",
    "    plt.figure()\n",
    "    plt.stem(np.array(range(len(chr1H)))*Window,chr1H)\n",
    "    plt.xlabel(\"Genomic Location, Window Size = \" + str(Window))\n",
    "    plt.ylabel(\"No. of variants with AF > \" + str(AFreq))\n",
    "    plt.title(chrname)\n",
    "plt.show() \n",
    "\n",
    "#Plot all together\n",
    "#%matplotlib notebook\n",
    "#%matplotlib inline\n",
    "#Window = 50000\n",
    "#AFreq = .8\n",
    "#con = 0\n",
    "#figure, axis = plt.subplots((len(df[\"chr\"].unique()) + 3)//4, 4)\n",
    "#for chrname in df[\"chr\"].unique() :\n",
    "#    chr1=df.loc[df[\"chr\"]==chrname]\n",
    "#    chr1 = chr1.loc[chr1[\"Freq\"]>AFreq]\n",
    "#    chr1H = np.array((chr1.groupby(chr1[\"pos\"] // Window).count())[\"chr\"])\n",
    "#    axis[con//4, con%4].stem(np.array(range(len(chr1H)))*Window,chr1H)\n",
    "#    axis[con//4, con%4].set_title(chrname)\n",
    "#    con = con + 1\n",
    "#plt.show() "
   ]
  },
  {
   "cell_type": "markdown",
   "metadata": {},
   "source": [
    "Feel free to download the raw VCFs produced by GATK algorithms by running the cell below. However, they are more useful when annotated (next step)."
   ]
  },
  {
   "cell_type": "code",
   "execution_count": null,
   "metadata": {},
   "outputs": [],
   "source": [
    "display(Markdown('Download bam files (right-click and \\\"save as\\\"): \\n' + '* [' + SampleName + '.HC.vcf](./analysis/VariantCalling/' + SampleName +'.HC.vcf)\\n' + '* [' + SampleName + '.UG.vcf](./analysis/VariantCalling/' + SampleName +'.UG.vcf)\\n'))"
   ]
  },
  {
   "cell_type": "markdown",
   "metadata": {},
   "source": [
    "### Variant annotation with SnpEff\n",
    "The last step is to identify if any mutation observed has an effect over any coding sequence. For that, we will use SnpEff suite. Lets start by creating a new folder and going there:"
   ]
  },
  {
   "cell_type": "code",
   "execution_count": null,
   "metadata": {},
   "outputs": [],
   "source": [
    "##Move to analysis\n",
    "os.chdir(path + '/analysis/')\n",
    "##Create directory to place data\n",
    "!mkdir -p VariantPrediction\n",
    "##Move to that directory\n",
    "os.chdir(path + '/analysis/VariantPrediction')"
   ]
  },
  {
   "cell_type": "markdown",
   "metadata": {},
   "source": [
    "Then, let's run SnpEff on both vcfs produced by GATK algorithms."
   ]
  },
  {
   "cell_type": "code",
   "execution_count": null,
   "metadata": {},
   "outputs": [],
   "source": [
    "###Produce Annotations\n",
    "!java -Xmx{ramG}g -jar {softpath}/SnpEff-5.0/snpEff/snpEff.jar {SnpEffGen} -stats {SampleName}.HC.html {path}/analysis/VariantCalling/{SampleName}.HC.vcf > {SampleName}.HC.ann.vcf\n",
    "!java -Xmx{ramG}g -jar {softpath}/SnpEff-5.0/snpEff/snpEff.jar {SnpEffGen} -stats {SampleName}.UG.html {path}/analysis/VariantCalling/{SampleName}.UG.vcf > {SampleName}.UG.ann.vcf \n",
    "\n",
    "if os.path.isfile(SampleName+'.HC.ann.vcf'):\n",
    "    if os.path.isfile(SampleName+'.UG.ann.vcf'):\n",
    "        display(Markdown('<b>\\b</b>'))\n",
    "    else:\n",
    "        display(Markdown('<div class=\\\"alert alert-block alert-danger\\\"><b>Error:</b><br>Annotated UG vcf not present in current path: '+os.getcwd()+'</div>'))\n",
    "else:\n",
    "    display(Markdown('<div class=\\\"alert alert-block alert-danger\\\"><b>Error:</b><br>Annotated HC vcf not present in current path: '+os.getcwd()+'</div>'))"
   ]
  },
  {
   "cell_type": "code",
   "execution_count": null,
   "metadata": {},
   "outputs": [],
   "source": [
    "!cat {SampleName}.HC.ann.vcf | perl {softpath}/SnpEff-5.0/snpEff/scripts/vcfEffOnePerLine.pl | java -Xmx{ramG}g -jar {softpath}/SnpEff-5.0/snpEff/SnpSift.jar extractFields - -s \",\" -e \".\" CHROM POS REF ALT QUAL GEN[{SampleName}].GT GEN[{SampleName}].DP GEN[*].AD \"ANN[*].GENEID\" \"ANN[*].ALLELE\" \"ANN[*].EFFECT\" \"ANN[*].IMPACT\" \"ANN[*].GENE\" \"ANN[*].FEATURE\" \"ANN[*].FEATUREID\" \"ANN[*].BIOTYPE\" \"ANN[*].RANK\" \"ANN[*].HGVS_C\" \"ANN[*].HGVS_P\" \"ANN[*].CDNA_POS\" \"ANN[*].CDNA_LEN\" \"ANN[*].CDS_POS\" \"ANN[*].CDS_LEN\" \"ANN[*].AA_POS\" \"ANN[*].AA_LEN\" \"ANN[*].DISTANCE\" \"LOF[*].GENE\" \"LOF[*].GENEID\" \"NMD[*].GENE\" \"NMD[*].GENEID\" > {SampleName}.HC.ann.txt\n",
    "!cat {SampleName}.UG.ann.vcf | perl {softpath}/SnpEff-5.0/snpEff/scripts/vcfEffOnePerLine.pl | java -Xmx{ramG}g -jar {softpath}/SnpEff-5.0/snpEff/SnpSift.jar extractFields - -s \",\" -e \".\" CHROM POS REF ALT QUAL GEN[{SampleName}].GT GEN[{SampleName}].DP GEN[*].AD \"ANN[*].GENEID\" \"ANN[*].ALLELE\" \"ANN[*].EFFECT\" \"ANN[*].IMPACT\" \"ANN[*].GENE\" \"ANN[*].FEATURE\" \"ANN[*].FEATUREID\" \"ANN[*].BIOTYPE\" \"ANN[*].RANK\" \"ANN[*].HGVS_C\" \"ANN[*].HGVS_P\" \"ANN[*].CDNA_POS\" \"ANN[*].CDNA_LEN\" \"ANN[*].CDS_POS\" \"ANN[*].CDS_LEN\" \"ANN[*].AA_POS\" \"ANN[*].AA_LEN\" \"ANN[*].DISTANCE\" \"LOF[*].GENE\" \"LOF[*].GENEID\" \"NMD[*].GENE\" \"NMD[*].GENEID\" > {SampleName}.UG.ann.txt\n",
    "\n",
    "if os.path.isfile(SampleName+'.HC.ann.txt'):\n",
    "    if os.path.isfile(SampleName+'.UG.ann.txt'):\n",
    "        display(Markdown('<b>\\b</b>'))\n",
    "    else:\n",
    "        display(Markdown('<div class=\\\"alert alert-block alert-danger\\\"><b>Error:</b><br>Annotated UG vcf not present in current path: '+os.getcwd()+'</div>'))\n",
    "else:\n",
    "    display(Markdown('<div class=\\\"alert alert-block alert-danger\\\"><b>Error:</b><br>Annotated HC vcf not present in current path: '+os.getcwd()+'</div>'))"
   ]
  },
  {
   "cell_type": "markdown",
   "metadata": {},
   "source": [
    "Finally, let's sort the annotations by it's importance (see the HTML reports for more information):"
   ]
  },
  {
   "cell_type": "code",
   "execution_count": null,
   "metadata": {},
   "outputs": [],
   "source": [
    "## Filter mutations by importance\n",
    "!echo \"#High impact mutations\" > {SampleName}.HC.ann.sort.txt\n",
    "!cat {SampleName}.HC.ann.vcf | perl {softpath}/SnpEff-5.0/snpEff/scripts/vcfEffOnePerLine.pl | java -Xmx{ramG}g -jar {softpath}/SnpEff-5.0/snpEff/SnpSift.jar filter \"ANN[0].IMPACT has 'HIGH'\" | java -Xmx{ramG}g -jar {softpath}/SnpEff-5.0/snpEff/SnpSift.jar extractFields - CHROM POS REF ALT \"ANN[*].GENE\" \"ANN[*].FEATUREID\" \"ANN[*].EFFECT\" \"LOF[*].GENE\" >> {SampleName}.HC.ann.sort.txt\n",
    "!echo \"#Moderate impact mutations\" >> {SampleName}.HC.ann.sort.txt\n",
    "!cat {SampleName}.HC.ann.vcf | perl {softpath}/SnpEff-5.0/snpEff/scripts/vcfEffOnePerLine.pl | java -Xmx{ramG}g -jar {softpath}/SnpEff-5.0/snpEff/SnpSift.jar filter \"ANN[0].IMPACT has 'MODERATE'\" | java -Xmx{ramG}g -jar {softpath}/SnpEff-5.0/snpEff/SnpSift.jar extractFields - CHROM POS REF ALT \"ANN[*].GENE\" \"ANN[*].FEATUREID\" \"ANN[*].EFFECT\" \"LOF[*].GENE\" >> {SampleName}.HC.ann.sort.txt\n",
    "!echo \"#Low impact mutations\" >> {SampleName}.HC.ann.sort.txt\n",
    "!cat {SampleName}.HC.ann.vcf | perl {softpath}/SnpEff-5.0/snpEff/scripts/vcfEffOnePerLine.pl | java -Xmx{ramG}g -jar {softpath}/SnpEff-5.0/snpEff/SnpSift.jar filter \"ANN[0].IMPACT has 'LOW'\" | java -Xmx{ramG}g -jar {softpath}/SnpEff-5.0/snpEff/SnpSift.jar extractFields - CHROM POS REF ALT \"ANN[*].GENE\" \"ANN[*].FEATUREID\" \"ANN[*].EFFECT\" \"LOF[*].GENE\" >> {SampleName}.HC.ann.sort.txt\n",
    "\n",
    "!echo \"#High impact mutations\" > {SampleName}.UG.ann.sort.txt\n",
    "!cat {SampleName}.UG.ann.vcf | perl {softpath}/SnpEff-5.0/snpEff/scripts/vcfEffOnePerLine.pl | java -Xmx{ramG}g -jar {softpath}/SnpEff-5.0/snpEff/SnpSift.jar filter \"ANN[0].IMPACT has 'HIGH'\" | java -Xmx{ramG}g -jar {softpath}/SnpEff-5.0/snpEff/SnpSift.jar extractFields - CHROM POS REF ALT \"ANN[*].GENE\" \"ANN[*].FEATUREID\" \"ANN[*].EFFECT\" \"LOF[*].GENE\" >> {SampleName}.UG.ann.sort.txt\n",
    "!echo \"#Moderate impact mutations\" >> {SampleName}.UG.ann.sort.txt\n",
    "!cat {SampleName}.UG.ann.vcf | perl {softpath}/SnpEff-5.0/snpEff/scripts/vcfEffOnePerLine.pl | java -Xmx{ramG}g -jar {softpath}/SnpEff-5.0/snpEff/SnpSift.jar filter \"ANN[0].IMPACT has 'MODERATE'\" | java -Xmx{ramG}g -jar {softpath}/SnpEff-5.0/snpEff/SnpSift.jar extractFields - CHROM POS REF ALT \"ANN[*].GENE\" \"ANN[*].FEATUREID\" \"ANN[*].EFFECT\" \"LOF[*].GENE\" >> {SampleName}.UG.ann.sort.txt\n",
    "!echo \"#Low impact mutations\" >> {SampleName}.UG.ann.sort.txt\n",
    "!cat {SampleName}.UG.ann.vcf | perl {softpath}/SnpEff-5.0/snpEff/scripts/vcfEffOnePerLine.pl | java -Xmx{ramG}g -jar {softpath}/SnpEff-5.0/snpEff/SnpSift.jar filter \"ANN[0].IMPACT has 'LOW'\" | java -Xmx{ramG}g -jar {softpath}/SnpEff-5.0/snpEff/SnpSift.jar extractFields - CHROM POS REF ALT \"ANN[*].GENE\" \"ANN[*].FEATUREID\" \"ANN[*].EFFECT\" \"LOF[*].GENE\" >> {SampleName}.UG.ann.sort.txt\n",
    "\n",
    "!echo \"Unified Genotyper\"\n",
    "!head {SampleName}.UG.ann.sort.txt\n",
    "!echo \"Haplotype Caller\"\n",
    "!head {SampleName}.HC.ann.sort.txt\n",
    "\n",
    "## Produce links to HTML reports\n",
    "display(Markdown('Full reports (open a new tab to see them): \\n' + '* [' + SampleName + ' Unified Genotyper results](./analysis/VariantPrediction/' + SampleName +'.UG.html)\\n' + '* [' + SampleName + ' Haplotype Caller results](./analysis/VariantPrediction/' + SampleName +'.HC.html)\\n'))"
   ]
  },
  {
   "cell_type": "markdown",
   "metadata": {},
   "source": [
    "### Results and final notes\n",
    "With all the analysis performed, let's just make a final directory with links to the most important outputs per step: "
   ]
  },
  {
   "cell_type": "code",
   "execution_count": null,
   "metadata": {},
   "outputs": [],
   "source": [
    "#Analysis completed, going back to main directory\n",
    "os.chdir(path)\n",
    "##Create directory to place copy of results and check if files are there\n",
    "!mkdir -p {path}/results\n",
    "##Move to that directory\n",
    "os.chdir( path + '/results' )"
   ]
  },
  {
   "cell_type": "markdown",
   "metadata": {},
   "source": [
    "Make link to main results and compress folder"
   ]
  },
  {
   "cell_type": "code",
   "execution_count": null,
   "metadata": {},
   "outputs": [],
   "source": [
    "##Make symbolic links\n",
    "!ln -s {path}/analysis/FastQC/*.zip .\n",
    "!ln -s {path}/analysis/Alignments/*.realigned.bam .\n",
    "!ln -s {path}/analysis/VariantCalling/*.vcf .\n",
    "!ln -s {path}/analysis/VariantPrediction/*.txt .\n",
    "\n",
    "## Compress results\n",
    "os.chdir( path )\n",
    "!zip -r {SampleName}_results.zip results\n",
    "\n",
    "## Make link to download\n",
    "## Produce links to HTML reports\n",
    "display(Markdown('Download compress folder: \\n' + '* [' + SampleName + '](./' + SampleName +'_results.zip)\\n' ))"
   ]
  },
  {
   "cell_type": "markdown",
   "metadata": {},
   "source": [
    "### Further analysis\n",
    "Congratulatios for completing this first tutorial. Now that we have the genomic variants seen in the Hawaiian strain, we're ready to perform mapping by sequencing. Save the location of your preffered VCF and go to the next nootebook of the Hawaiian tutorial `WGS-Mutant_strain-Hawaiian_tutorial`."
   ]
  },
  {
   "cell_type": "code",
   "execution_count": null,
   "metadata": {},
   "outputs": [],
   "source": []
  }
 ],
 "metadata": {
  "kernelspec": {
   "display_name": "Python 3 (ipykernel)",
   "language": "python",
   "name": "python3"
  },
  "language_info": {
   "codemirror_mode": {
    "name": "ipython",
    "version": 3
   },
   "file_extension": ".py",
   "mimetype": "text/x-python",
   "name": "python",
   "nbconvert_exporter": "python",
   "pygments_lexer": "ipython3",
   "version": "3.7.2"
  }
 },
 "nbformat": 4,
 "nbformat_minor": 2
}
