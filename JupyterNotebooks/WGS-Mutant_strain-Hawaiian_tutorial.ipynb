{
 "cells": [
  {
   "cell_type": "markdown",
   "metadata": {},
   "source": [
    "# WGS-Mutant_strain_ex1-Hawaiian_tutorial\n",
    "* [Amhed Missael Vargas Velazquez](https://www.researchgate.net/profile/Amhed-Vargas-Velazquez)\n",
    "* Post-doctoral fellow, [SGB lab](https://syngenbio.kaust.edu.sa/), [KAUST](https://www.kaust.edu.sa/en)\n",
    "\n",
    "## Description\n",
    "This jupyter notebook will guide you through the analysis required to identify the causal mutation for a *roller* phenotype in two [mapping by sequencing](https://www.genetics.org/content/204/2/451) experiments ([Smith *et al.* 2016](https://www.g3journal.org/content/6/5/1297)). In these experiments, the strategy used was *Hawaiian* mapping, therefore, a `.vcf` file containing the variants of CB4856 is required to run this pipeline.  \n",
    "\n",
    "## Software requirements\n",
    "The core instance running this script is Python. However, most of the analysis are performed by other programs (handled by `system calls !`) which have to be installed or, for portability convenience, be present in a folder (check `WGS-Software_configuration` notebook for further details). Note that software in **bold** are the only ones we distribute, the rest must be installed in the computer running this notebook.\n",
    "\n",
    "* [samtools](http://www.htslib.org/)\n",
    "* [bwa](https://github.com/lh3/bwa)\n",
    "* [**GATK**](https://gatk.broadinstitute.org/hc/en-us) [3.7+](https://console.cloud.google.com/storage/browser/gatk-software/package-archive/gatk/); note that current version of GATK (4.0+) uses different nomenclature and have different tools which makes it not compatible with this pipeline. We describe in detail why we stick to this software in the notebook `WGS-Software_configuration`.\n",
    "* [**picard**](https://broadinstitute.github.io/picard/)\n",
    "* [**snpEff**](https://pcingola.github.io/SnpEff/)\n",
    "* [fastQC](https://www.bioinformatics.babraham.ac.uk/projects/fastqc/)\n",
    "* [SRAToolkit](https://github.com/ncbi/sra-tools)\n",
    "* wget\n",
    "* zcat\n",
    "* [R](https://cran.r-project.org/)\n",
    "* perl\n",
    "\n",
    "### Python libraries\n",
    "* os\n",
    "* IPython.display\n",
    "* numpy\n",
    "* pandas\n",
    "* matplotlib\n",
    "\n",
    "### R libraries\n",
    "* ggplot2\n",
    "\n",
    "## Getting started\n",
    "Run the cells below to load essential python libraries, access a working directory, and to verify you have the required software"
   ]
  },
  {
   "cell_type": "markdown",
   "metadata": {},
   "source": [
    "### Load python libraries\n",
    "Run the cell below to load essential libraries for the pipeline to work:"
   ]
  },
  {
   "cell_type": "code",
   "execution_count": 1,
   "metadata": {},
   "outputs": [],
   "source": [
    "## Load libraries\n",
    "#os to move within directories\n",
    "import os\n",
    "#IPython.display for markdown\n",
    "from IPython.display import display, Markdown\n",
    "#matplotlib, pandas, and numpy for plotting and data analysis respectively\n",
    "import numpy as np\n",
    "import pandas as pd\n",
    "import matplotlib.pyplot as plt"
   ]
  },
  {
   "cell_type": "markdown",
   "metadata": {},
   "source": [
    "### Select a folder that can be accesed by the pipeline  \n",
    "Before starting any analysis, make sure to select a folder where the analysis will be performed (*unless* stated otherwise, the analysis will be performed on the **same folder as this notebook**):"
   ]
  },
  {
   "cell_type": "code",
   "execution_count": 2,
   "metadata": {},
   "outputs": [
    {
     "data": {
      "text/markdown": [
       "<div class=\"alert alert-block alert-info\">Directory for analysis:<br><b>/home/velazqam/Projects/jupyter_notebooks/dev</b></div>"
      ],
      "text/plain": [
       "<IPython.core.display.Markdown object>"
      ]
     },
     "metadata": {},
     "output_type": "display_data"
    }
   ],
   "source": [
    "##Set working directory\n",
    "#Same location as script\n",
    "path = os.getcwd()\n",
    "#or somewhere else, e.g.:\n",
    "#path = '/home/jupyter-USER/Workstation/USER/parental'\n",
    "\n",
    "##Move to path\n",
    "os.chdir(path)\n",
    "\n",
    "##Show current directory to user\n",
    "display(Markdown('<div class=\\\"alert alert-block alert-info\\\">Directory for analysis:<br><b>' + os.getcwd() + '</b></div>'))"
   ]
  },
  {
   "cell_type": "markdown",
   "metadata": {},
   "source": [
    "### Make sure to have the required \"stand alone\" software\n",
    "Most of the programs used within this pipeline have \"stand-alone\" versions that allow users to run their analysis on any computer they want. However, first you have to make sure to have those programs. Particularly, make sure to have a directory containing the following ones: \n",
    "\n",
    "- GATK (GenomeAnalysisTK.jar)\n",
    "- Picard (picard.jar)\n",
    "- SnpEff (folder with both snpEff.jar and SnpSift.jar, and another folder with its database; more below)\n",
    "\n",
    "For your convenience, there is a folder already containing these programs. Just make sure to set properly the path to them, e.g.:"
   ]
  },
  {
   "cell_type": "code",
   "execution_count": 3,
   "metadata": {},
   "outputs": [
    {
     "data": {
      "text/markdown": [
       "<div class=\"alert alert-block alert-success\"><b>\b GATK</b></div>"
      ],
      "text/plain": [
       "<IPython.core.display.Markdown object>"
      ]
     },
     "metadata": {},
     "output_type": "display_data"
    },
    {
     "data": {
      "text/markdown": [
       "<div class=\"alert alert-block alert-success\"><b>\b Picard</b></div>"
      ],
      "text/plain": [
       "<IPython.core.display.Markdown object>"
      ]
     },
     "metadata": {},
     "output_type": "display_data"
    },
    {
     "data": {
      "text/markdown": [
       "<div class=\"alert alert-block alert-success\"><b>\b SnpEff</b></div>"
      ],
      "text/plain": [
       "<IPython.core.display.Markdown object>"
      ]
     },
     "metadata": {},
     "output_type": "display_data"
    }
   ],
   "source": [
    "##Path to software folder\n",
    "softpath = '/home/WGS_pipeline/Software'\n",
    "\n",
    "##GATK v3.8.1.0\n",
    "GATKpath = (softpath + '/gatk-3.8.1.0')\n",
    "\n",
    "##Picard v2.23.6 \n",
    "PiKpath = (softpath + '/picard2.23.6')\n",
    "\n",
    "##SnpEff v.0\n",
    "Snpath = (softpath + '/SnpEff-5.0/snpEff')\n",
    "\n",
    "##Alternative paths\n",
    "#GATKpath = ''\n",
    "#PiKpath = ''\n",
    "#Snpath = ''\n",
    "\n",
    "##Check if jar files are there\n",
    "##Notify user if GATK .jar is present or not\n",
    "if os.path.isfile(GATKpath + '/GenomeAnalysisTK.jar'):\n",
    "    display(Markdown('<div class=\\\"alert alert-block alert-success\\\"><b>\\b GATK</b></div>'))\n",
    "else:\n",
    "    display(Markdown('<div class=\\\"alert alert-block alert-danger\\\"><b>Error:</b><br>GATK not found in: ' + GATKpath +'</div>'))\n",
    "\n",
    "##Notify user if Picard .jar is present or not\n",
    "if os.path.isfile(PiKpath + '/picard.jar'):\n",
    "    display(Markdown('<div class=\\\"alert alert-block alert-success\\\"><b>\\b Picard</b></div>'))\n",
    "else:\n",
    "    display(Markdown('<div class=\\\"alert alert-block alert-danger\\\"><b>Error:</b><br>Picard not found in: ' + PiKpath +'</div>'))\n",
    "\n",
    "##Notify user if SnpEff .jar is present or not\n",
    "if os.path.isfile(Snpath + '/snpEff.jar'):\n",
    "    display(Markdown('<div class=\\\"alert alert-block alert-success\\\"><b>\\b SnpEff</b></div>'))\n",
    "else:\n",
    "    display(Markdown('<div class=\\\"alert alert-block alert-danger\\\"><b>Error:</b><br>SnpEff not found in: ' + GATKpath +'</div>'))"
   ]
  },
  {
   "cell_type": "markdown",
   "metadata": {},
   "source": [
    "### Make sure to have a reference genome\n",
    "In order to run this pipeline, a *C. elegans* reference genome is needed (preferentially in fasta format). The cells below allows you to prepare your reference file or to download the *C. elegans* ce11/WS235 version from Ensemble."
   ]
  },
  {
   "cell_type": "markdown",
   "metadata": {},
   "source": [
    "First, download or specify the location of your reference genome:"
   ]
  },
  {
   "cell_type": "code",
   "execution_count": 4,
   "metadata": {},
   "outputs": [
    {
     "data": {
      "text/markdown": [
       "<div class=\"alert alert-block alert-success\"><b>Reference Genome :</b>\n",
       "/home/jupyter-newuser/Workstation/Amhed/Caenorhabditis_elegans.fa</div>"
      ],
      "text/plain": [
       "<IPython.core.display.Markdown object>"
      ]
     },
     "metadata": {},
     "output_type": "display_data"
    }
   ],
   "source": [
    "##Specify the location of the genome of Reference\n",
    "#e.g.\n",
    "RefFile=('/home/jupyter-newuser/Workstation/Amhed/Caenorhabditis_elegans.fa')\n",
    "\n",
    "###OR\n",
    "\n",
    "##To download ce11 uncomment (remove the # sign) from the lines below\n",
    "\n",
    "#!mkdir -p {path}/data\n",
    "\n",
    "#os.chdir(path+'/data')\n",
    "\n",
    "#!wget -q ftp://ftp.ensembl.org/pub/release-99/fasta/caenorhabditis_elegans/dna/Caenorhabditis_elegans.WBcel235.dna_sm.toplevel.fa.gz\n",
    "\n",
    "#!zcat Caenorhabditis_elegans.WBcel235.dna_sm.toplevel.fa.gz > Caenorhabditis_elegans.WBcel235.99.softmasked.fa\n",
    "\n",
    "#RefFile=(path+'/data/'+'Caenorhabditis_elegans.WBcel235.99.softmasked.fa')\n",
    "\n",
    "##Notify user if file present or not\n",
    "if os.path.isfile(RefFile):\n",
    "    display(Markdown('<div class=\\\"alert alert-block alert-success\\\"><b>Reference Genome :</b>\\n'+RefFile+'</div>'))\n",
    "else:\n",
    "    display(Markdown('<div class=\\\"alert alert-block alert-danger\\\"><b>Error:</b><br>Reference file: '+RefFile+' does not exists</div>'))"
   ]
  },
  {
   "cell_type": "markdown",
   "metadata": {},
   "source": [
    "Then it need to be indexed by samtools:"
   ]
  },
  {
   "cell_type": "code",
   "execution_count": 5,
   "metadata": {},
   "outputs": [
    {
     "data": {
      "text/markdown": [
       "<b>\b</b>"
      ],
      "text/plain": [
       "<IPython.core.display.Markdown object>"
      ]
     },
     "metadata": {},
     "output_type": "display_data"
    }
   ],
   "source": [
    "##Check first if file is indexed already\n",
    "if os.path.isfile(RefFile+'.fai'):\n",
    "    display(Markdown('<b>\\b</b>'))\n",
    "else:\n",
    "    !samtools faidx {RefFile}\n",
    "    ##Notify user if this step was sucessfull\n",
    "    if os.path.isfile(RefFile+'.fai'):\n",
    "        display(Markdown('<b>\\b</b>'))\n",
    "    else:\n",
    "            display(Markdown('<div class=\\\"alert alert-block alert-danger\\\"><b>Error:</b><br>Index file not produced for '+RefFile+'</div>'))"
   ]
  },
  {
   "cell_type": "markdown",
   "metadata": {},
   "source": [
    "And bwa"
   ]
  },
  {
   "cell_type": "code",
   "execution_count": 6,
   "metadata": {},
   "outputs": [
    {
     "data": {
      "text/markdown": [
       "<b>\b</b>"
      ],
      "text/plain": [
       "<IPython.core.display.Markdown object>"
      ]
     },
     "metadata": {},
     "output_type": "display_data"
    }
   ],
   "source": [
    "##Check first if file is indexed already\n",
    "if os.path.isfile(RefFile+'.bwt'):\n",
    "    display(Markdown('<b>\\b</b>'))\n",
    "else:\n",
    "    !bwa index {RefFile} > /dev/null 2>&1\n",
    "    ##Notify user if this step was sucessfull\n",
    "    if os.path.isfile(RefFile+'.bwt'):\n",
    "        display(Markdown('<b>\\b</b>'))\n",
    "    else:\n",
    "        display(Markdown('<div class=\\\"alert alert-block alert-danger\\\"><b>Error:</b><br>Index file not produced for '+RefFile+'</div>'))"
   ]
  },
  {
   "cell_type": "markdown",
   "metadata": {},
   "source": [
    "And by picard tools"
   ]
  },
  {
   "cell_type": "code",
   "execution_count": 7,
   "metadata": {},
   "outputs": [
    {
     "data": {
      "text/markdown": [
       "<b>\b</b>"
      ],
      "text/plain": [
       "<IPython.core.display.Markdown object>"
      ]
     },
     "metadata": {},
     "output_type": "display_data"
    }
   ],
   "source": [
    "RefFilebase=''.join(RefFile.split('.')[:-1])\n",
    "\n",
    "##Check first if file is indexed already\n",
    "if os.path.isfile(RefFilebase +'.dict'):\n",
    "    display(Markdown('<b>\\b</b>'))\n",
    "else:\n",
    "    !java -jar {softpath}/picard2.23.6/picard.jar CreateSequenceDictionary R={RefFile} O={RefFilebase +'.dict'} > /dev/null 2>&1\n",
    "    ##Notify user if this step was sucessfull\n",
    "    if os.path.isfile(RefFilebase +'.dict'):\n",
    "        display(Markdown('<b>\\b</b>'))\n",
    "    else:\n",
    "        display(Markdown('<div class=\\\"alert alert-block alert-danger\\\"><b>Error:</b><br>Index file not produced for '+RefFile+'</div>'))"
   ]
  },
  {
   "cell_type": "markdown",
   "metadata": {},
   "source": [
    "Now your reference genome is ready for the analysis in this pipeline (**as well as many others**)."
   ]
  },
  {
   "cell_type": "code",
   "execution_count": 8,
   "metadata": {},
   "outputs": [],
   "source": [
    "ReferenceGenome = RefFile"
   ]
  },
  {
   "cell_type": "markdown",
   "metadata": {},
   "source": [
    "## Brief introduction\n",
    "Whole Genome Sequencing (WGS) has revolutionized how we identify genes that act in the development of a phenotype. For a short historical review check this [timeline of *C. elegans* research](https://www.hobertlab.org/wp-content/uploads/2013/03/Ankeny_2001.pdf) and for a better understanding read the Wormbook chapter on [NGS methods to map mutations in *C. elegans*](https://www.genetics.org/content/204/2/451).\n",
    "\n",
    "This jupyter notebook will guide you through the computation used to identify the causing mutation of a *roller* phenotype using two mapping by sequencing approaches. In particular, we will map genetic mutations that have been introgressed to the *Hawaiian* (CB4856) genomic background. As a first exercise, we will replicate the **Fig. 2** of [Smith et al.](https://www.g3journal.org/content/6/5/1297) which describes two ways to map a mutation located in *rol-6* (see image below). In the `WGS-Mutant_strain_ex2-Hawaiian_tutorial` notebook, multiple strains will be analized at once, so refer to it for an advance use of this pipeline. Please note that a *.vcf* (variant call format) file containing the genomic variants of **CB4856** is needed to run this notebook; in case you're interested on how to produce this file, please refer to the `WGS-Parental_strain-Hawaiian_tutorial` jupyter notebook."
   ]
  },
  {
   "cell_type": "markdown",
   "metadata": {},
   "source": [
    "![Fig.2 https://doi.org/10.1534/g3.116.028316](https://www.g3journal.org/content/ggg/6/5/1297/F2.large.jpg)"
   ]
  },
  {
   "cell_type": "markdown",
   "metadata": {},
   "source": [
    "#### Image caption from Fig2 of [Smith *et al.* 2016](https://www.g3journal.org/content/6/5/1297):\n",
    "> Polymorphism mapping of dominant mutations. **A. Mapping strategies.** The strain bearing the dominant mutation (asterisk, in red) is crossed to the mapping strain (haw, in green). For reverse mapping, wild-type F2 progeny are pooled for sequencing. For F3 screening, progeny from individual mutant F2s are screened to identify homozygous mutants, which are pooled for sequencing. **B. Reverse mapping data for *rol-6*(*su1006*).** Plot is shown for chromosome II, which contains *rol-6* at position 8.7 Mb. **C. Mapping data for F3 screen.** Chromosome II, with *rol-6* indicated."
   ]
  },
  {
   "cell_type": "markdown",
   "metadata": {},
   "source": [
    "### Obtaining sequencing reads from NCBI Short Read Archive (SRA)\n",
    "\n",
    "In order to fully replicate the figure above, we need the sequencing data of the bulk segregants in the \"Reverse mapping\" and the \"F3 screen\". Fortunately, these files were submitted to the SRA with the accesion numbers [SRR3084251](https://www.ncbi.nlm.nih.gov/sra/?term=SRR3084251) and [SRR3084348](https://www.ncbi.nlm.nih.gov/sra/?term=SRR3084348) respectively."
   ]
  },
  {
   "cell_type": "markdown",
   "metadata": {},
   "source": [
    "We will use `wget` to download the SRA files and the `SRAToolkit` to convert them back to fastq files. Please note that these libraries are single-end (only a single fastq file will be obtained per SRA file)"
   ]
  },
  {
   "cell_type": "code",
   "execution_count": 9,
   "metadata": {},
   "outputs": [],
   "source": [
    "##rol-6 reverse mapping\n",
    "#SRR3084251\n",
    "#!wget -q https://sra-pub-run-odp.s3.amazonaws.com/sra/SRR3084251/SRR3084251\n",
    "\n",
    "##rol-6 F3 screen\n",
    "#SRR3084348\n",
    "#!wget -q https://sra-pub-run-odp.s3.amazonaws.com/sra/SRR3084348/SRR3084348\n",
    "    \n",
    "##Dump files into fastq files\n",
    "#!fastq-dump SRR3084251\n",
    "#!fastq-dump SRR3084348"
   ]
  },
  {
   "cell_type": "markdown",
   "metadata": {},
   "source": [
    "Alternatively, you can copy the sequencing reads from our internal folder:"
   ]
  },
  {
   "cell_type": "code",
   "execution_count": 9,
   "metadata": {},
   "outputs": [],
   "source": [
    "##Copy from internal folder\n",
    "!cp /home/WGS_pipeline/data/SRR3084251.fastq .\n",
    "!cp /home/WGS_pipeline/data/SRR3084348.fastq ."
   ]
  },
  {
   "cell_type": "code",
   "execution_count": 10,
   "metadata": {},
   "outputs": [
    {
     "data": {
      "text/markdown": [
       "<b>SRR3084251.fastq \b</b>"
      ],
      "text/plain": [
       "<IPython.core.display.Markdown object>"
      ]
     },
     "metadata": {},
     "output_type": "display_data"
    },
    {
     "data": {
      "text/markdown": [
       "<b>SRR3084348.fastq \b</b>"
      ],
      "text/plain": [
       "<IPython.core.display.Markdown object>"
      ]
     },
     "metadata": {},
     "output_type": "display_data"
    }
   ],
   "source": [
    "##Verify if files were properly obtained\n",
    "#SRR2003569_1.fastq\n",
    "if os.path.isfile('SRR3084251.fastq'):\n",
    "    display(Markdown('<b>SRR3084251.fastq \\b</b>'))\n",
    "else:\n",
    "    display(Markdown('<div class=\\\"alert alert-block alert-danger\\\"><b>Error:</b><br>The file SRR3084251.fastq is not present in current path: '+os.getcwd()+'</div>'))\n",
    "\n",
    "#SRR2003569_2.fastq\n",
    "if os.path.isfile('SRR3084348.fastq'):\n",
    "    display(Markdown('<b>SRR3084348.fastq \\b</b>'))\n",
    "else:\n",
    "    display(Markdown('<div class=\\\"alert alert-block alert-danger\\\"><b>Error:</b><br>The file SRR3084348.fastq is not present in current path: '+os.getcwd()+'</div>'))"
   ]
  },
  {
   "cell_type": "markdown",
   "metadata": {},
   "source": [
    "### Hawaiian (CB4856) genomic variants\n",
    "\n",
    "In order to fully replicate the figure above, we need first to identify the genomic variants seen in the bulk segregants for the \"Reverse mapping\" and the \"F3\" screens. Subsequently, we need to subtract the genomic variants that belongs to the Hawaiian strain. These variants (formated into a `.vcf` file) can be obtained by following the `WGS-Parental_strain-Hawaiian_tutorial` notebook. Alternatively, you can use `.vcf` files from other sources (see below)."
   ]
  },
  {
   "cell_type": "code",
   "execution_count": null,
   "metadata": {},
   "outputs": [],
   "source": [
    "## Path to .vcf file containing CB4856 variants\n",
    "#ParentVcf = \"/home/jupyter-user/analysis/data/CB4856.UG.vcf\""
   ]
  },
  {
   "cell_type": "markdown",
   "metadata": {},
   "source": [
    "Alternatevily, you can copy a vcf file containing Hawaiian genomic variants from sequencing runs produced for wild isolates at [Andersen lab collection](https://trace.ncbi.nlm.nih.gov/Traces/sra/?run=SRR2003569), or from [CeNDR](https://elegansvariation.org/data/release/latest), or from wormbase. Plea but (liftover) to a more recent version of C. elegans gneome."
   ]
  },
  {
   "cell_type": "code",
   "execution_count": null,
   "metadata": {},
   "outputs": [],
   "source": []
  },
  {
   "cell_type": "markdown",
   "metadata": {},
   "source": [
    "## Data analysis workflow\n",
    "The common pipeline consist on:\n",
    "* Quality assesment of sequencing reads via FastQC\n",
    "* Mapping of reads with bwa\n",
    "* Filtering and processing of alignment file with samtools\n",
    "* Coverage analysis with Samtools\n",
    "* Realigment with GATK\n",
    "* Variant calling with GATK HC and UG\n",
    "* Mutational analysis with SnpEff"
   ]
  },
  {
   "cell_type": "markdown",
   "metadata": {},
   "source": [
    "But before that, lets create a directory where the analysis will be executed:"
   ]
  },
  {
   "cell_type": "code",
   "execution_count": null,
   "metadata": {},
   "outputs": [],
   "source": [
    "##Move to that directory\n",
    "os.chdir(path)\n",
    "##Create directory to place data\n",
    "!mkdir -p {path}/analysis\n",
    "##Move to that directory\n",
    "os.chdir( path + '/analysis' )"
   ]
  },
  {
   "cell_type": "markdown",
   "metadata": {},
   "source": [
    "Lets now define parameters for pipeline:"
   ]
  },
  {
   "cell_type": "code",
   "execution_count": null,
   "metadata": {},
   "outputs": [],
   "source": [
    "##Inputs\n",
    "SampleName = 'CFJ125'\n",
    "FastqF1 = ('/home/jupyter-newuser/Workstation/CFJ125/CFJ125_R1.fastq') \n",
    "FastqF2 = ('/home/jupyter-newuser/Workstation/CFJ125/CFJ125_R2.fastq')\n",
    "SnpEffGen = 'WBcel235.99'\n",
    "\n",
    "#Minimal quality for bam\n",
    "minMaqQforBam = 1\n",
    "#Minimum quality for vcf filtering\n",
    "minMaqQforVcf = 10\n",
    "#Minimum basequality for variant calling\n",
    "minBaseQforVcf = 10\n",
    "#\n",
    "minVarCall = 10\n",
    "diffStep = 10\n",
    "minDel = 2\n",
    "maxSample= 2\n",
    "\n",
    "#Number of threats\n",
    "Ncpu=1\n",
    "#Ram for java\n",
    "ramG=20"
   ]
  },
  {
   "cell_type": "markdown",
   "metadata": {},
   "source": [
    "### Quality assesment of Fastq files\n",
    "A simple way to verify the quality of your sequencing runs is via the FastQC program. The following cells will make a directory to run the analysis and output its results."
   ]
  },
  {
   "cell_type": "code",
   "execution_count": null,
   "metadata": {},
   "outputs": [],
   "source": [
    "##Create directory to place data\n",
    "!mkdir -p FastQC\n",
    "##Move to that directory\n",
    "os.chdir(path + '/analysis/FastQC')"
   ]
  },
  {
   "cell_type": "code",
   "execution_count": null,
   "metadata": {},
   "outputs": [],
   "source": [
    "##Perform fastQC analysis\n",
    "!fastqc -t {Ncpu} {FastqF1} {FastqF2} -o . > /dev/null 2>&1\n",
    "\n",
    "##Notify user if this step was sucessfull\n",
    "tempname1 = FastqF1.split(\"/\")[-1]\n",
    "tempname1 = ''.join(tempname1.split(\".\")[-len(tempname1.split(\".\"))])\n",
    "if os.path.isfile(tempname1 + '_fastqc.html'):\n",
    "    #display(Markdown('<div class=\\\"alert alert-block alert-success\\\">'))\n",
    "    !unzip -o -qq \\*.zip\n",
    "    display(Markdown('<b>Metrics:</b>'))\n",
    "    tempname1 = FastqF1.split(\"/\")[-1]\n",
    "    tempname1 = ''.join(tempname1.split(\".\")[-len(tempname1.split(\".\"))])\n",
    "    print(tempname1)\n",
    "    !cat {tempname1}_fastqc/summary.txt\n",
    "    tempname2 = FastqF2.split(\"/\")[-1]\n",
    "    tempname2 = ''.join(tempname2.split(\".\")[-len(tempname2.split(\".\"))])\n",
    "    print(tempname2)\n",
    "    !cat {tempname2}_fastqc/summary.txt\n",
    "    display(Markdown('<b>\\b</b>'))\n",
    "else:\n",
    "    display(Markdown('<div class=\\\"alert alert-block alert-danger\\\"><b>Error:</b><br>FASTQC report not produced in current directory: '+os.getcwd()+'</div>'))"
   ]
  },
  {
   "cell_type": "markdown",
   "metadata": {},
   "source": [
    "#### HTML reports\n",
    "Run the cell below to link the FastQC results to this notebook."
   ]
  },
  {
   "cell_type": "code",
   "execution_count": null,
   "metadata": {},
   "outputs": [],
   "source": [
    "display(Markdown('Full reports (open a new tab to see them): \\n' + '* [' + tempname1 + '](./analysis/FastQC/' + tempname1 +'_fastqc.html)\\n' + '* [' + tempname2 + '](./analysis/FastQC/' + tempname2 +'_fastqc.html)\\n'))"
   ]
  },
  {
   "cell_type": "markdown",
   "metadata": {},
   "source": [
    "### Mapping reads to reference genome using bwa"
   ]
  },
  {
   "cell_type": "markdown",
   "metadata": {},
   "source": [
    "After assesed the quality of the Fastq reads, we will map them to the reference genome using bwa. For that running the cells belows will produce a directory where the analysis will be performed."
   ]
  },
  {
   "cell_type": "code",
   "execution_count": null,
   "metadata": {},
   "outputs": [],
   "source": [
    "##Move to analysis\n",
    "os.chdir(path + '/analysis/')\n",
    "##Create directory to place data\n",
    "!mkdir -p Alignments\n",
    "##Move to that directory\n",
    "os.chdir(path + '/analysis/Alignments')"
   ]
  },
  {
   "cell_type": "code",
   "execution_count": null,
   "metadata": {},
   "outputs": [],
   "source": [
    "!bwa mem -t {Ncpu} -M {ReferenceGenome} {FastqF1} {FastqF2} -o {SampleName}.sam > /dev/null 2>&1\n",
    "\n",
    "##Notify user if previous step was sucessfull\n",
    "if os.path.isfile(SampleName+'.sam'):\n",
    "    #display(Markdown('<div class=\\\"alert alert-block alert-success\\\">\\b</div>'))\n",
    "    display(Markdown('<b>\\b</b>'))\n",
    "else:\n",
    "    display(Markdown('<div class=\\\"alert alert-block alert-danger\\\"><b>Error:</b><br>Sam file not present in current path: '+os.getcwd()+'</div>'))"
   ]
  },
  {
   "cell_type": "markdown",
   "metadata": {},
   "source": [
    "Now lets transform to bam"
   ]
  },
  {
   "cell_type": "code",
   "execution_count": null,
   "metadata": {},
   "outputs": [],
   "source": [
    "!samtools view -@ {Ncpu} -S -bh {SampleName}.sam | samtools sort -@ {Ncpu} - > {SampleName}.bam\n",
    "\n",
    "if os.path.isfile(SampleName+'.bam'):\n",
    "    #display(Markdown('<div class=\\\"alert alert-block alert-success\\\">\\b</div>'))\n",
    "    display(Markdown('<b>\\b</b>'))\n",
    "else:\n",
    "    display(Markdown('<div class=\\\"alert alert-block alert-danger\\\"><b>Error:</b><br>Sam file not present in current path: '+os.getcwd()+'</div>'))"
   ]
  },
  {
   "cell_type": "markdown",
   "metadata": {},
   "source": [
    "Now lets index"
   ]
  },
  {
   "cell_type": "code",
   "execution_count": null,
   "metadata": {},
   "outputs": [],
   "source": [
    "!samtools index {SampleName}.bam\n",
    "\n",
    "if os.path.isfile(SampleName+'.bam.bai'):\n",
    "    #display(Markdown('<div class=\\\"alert alert-block alert-success\\\">\\b</div>'))\n",
    "    display(Markdown('<b>\\b</b>'))\n",
    "else:\n",
    "    display(Markdown('<div class=\\\"alert alert-block alert-danger\\\"><b>Error:</b><br>Index file not present in current path: '+os.getcwd()+'</div>'))"
   ]
  },
  {
   "cell_type": "markdown",
   "metadata": {},
   "source": [
    "Filter for mapping quality"
   ]
  },
  {
   "cell_type": "code",
   "execution_count": null,
   "metadata": {},
   "outputs": [],
   "source": [
    "!samtools view -@ {Ncpu} -q {minMaqQforBam} -bh {SampleName}.bam > {SampleName}.SF.bam\n",
    "\n",
    "if os.path.isfile(SampleName+'.SF.bam'):\n",
    "    #display(Markdown('<div class=\\\"alert alert-block alert-success\\\">\\b</div>'))\n",
    "    display(Markdown('<b>\\b</b>'))\n",
    "else:\n",
    "    display(Markdown('<div class=\\\"alert alert-block alert-danger\\\"><b>Error:</b><br>Filtered file not present in current path: '+os.getcwd()+'</div>'))"
   ]
  },
  {
   "cell_type": "markdown",
   "metadata": {},
   "source": [
    "Then add and replace groups via picard"
   ]
  },
  {
   "cell_type": "code",
   "execution_count": null,
   "metadata": {},
   "outputs": [],
   "source": [
    "!java -Xmx{ramG}g -jar {softpath}/picard2.23.6/picard.jar AddOrReplaceReadGroups I={SampleName}.SF.bam O={SampleName}.RG.bam RGID={SampleName} RGLB=LB RGPL=illumina RGPU=PU RGSM={SampleName} > /dev/null 2>&1\n",
    "\n",
    "if os.path.isfile(SampleName+'.RG.bam'):\n",
    "    #display(Markdown('<div class=\\\"alert alert-block alert-success\\\">\\b</div>'))\n",
    "    display(Markdown('<b>\\b</b>'))\n",
    "else:\n",
    "    display(Markdown('<div class=\\\"alert alert-block alert-danger\\\"><b>Error:</b><br>Read groups file not present in current path: '+os.getcwd()+'</div>'))"
   ]
  },
  {
   "cell_type": "markdown",
   "metadata": {},
   "source": [
    "Then we mark duplicates"
   ]
  },
  {
   "cell_type": "code",
   "execution_count": null,
   "metadata": {},
   "outputs": [],
   "source": [
    "!java -Xmx{ramG}g -jar {softpath}/picard2.23.6/picard.jar MarkDuplicates I={SampleName}.RG.bam O={SampleName}.Dup.bam M={SampleName}.dedupMetrics REMOVE_DUPLICATES=true > /dev/null 2>&1\n",
    "\n",
    "if os.path.isfile(SampleName+'.Dup.bam'):\n",
    "    display(Markdown('<b>\\b</b>'))\n",
    "else:\n",
    "    display(Markdown('<div class=\\\"alert alert-block alert-danger\\\"><b>Error:</b><br>Aligment withouth duplicates file not present in current path: '+os.getcwd()+'</div>'))"
   ]
  },
  {
   "cell_type": "markdown",
   "metadata": {},
   "source": [
    "Index bam"
   ]
  },
  {
   "cell_type": "code",
   "execution_count": null,
   "metadata": {},
   "outputs": [],
   "source": [
    "!samtools index {SampleName}.Dup.bam\n",
    "\n",
    "if os.path.isfile(SampleName+'.Dup.bam.bai'):\n",
    "    #display(Markdown('<div class=\\\"alert alert-block alert-success\\\">\\b</div>'))\n",
    "    display(Markdown('<b>\\b</b>'))\n",
    "else:\n",
    "    display(Markdown('<div class=\\\"alert alert-block alert-danger\\\"><b>Error:</b><br>Index file not present in current path: '+os.getcwd()+'</div>'))"
   ]
  },
  {
   "cell_type": "markdown",
   "metadata": {},
   "source": [
    "Feel free to download the files before realigment by following the links:"
   ]
  },
  {
   "cell_type": "code",
   "execution_count": null,
   "metadata": {},
   "outputs": [],
   "source": [
    "display(Markdown('Download bam files (right-click and \\\"save as\\\"): \\n' + '* [' + SampleName + '.Dup.bam](./analysis/Alignments/' + SampleName +'.Dup.bam)\\n' + '* [' + SampleName + '.Dup.bam.bai](./analysis/Alignments/' + SampleName +'.Dup.bam.bai)\\n'))"
   ]
  },
  {
   "cell_type": "markdown",
   "metadata": {},
   "source": [
    "### Coverage analysis with samtools\n",
    "Finally let's see basic stats of the reads mapped in the last bam file"
   ]
  },
  {
   "cell_type": "code",
   "execution_count": null,
   "metadata": {},
   "outputs": [],
   "source": [
    "!samtools coverage {SampleName}.Dup.bam"
   ]
  },
  {
   "cell_type": "markdown",
   "metadata": {},
   "source": [
    "### Local realigment of reads around indels via GATK\n",
    "Let's now proceed to re-align the reads to do better calling around indels. For that, we start by identifying the location of possible indes via GATK"
   ]
  },
  {
   "cell_type": "code",
   "execution_count": null,
   "metadata": {},
   "outputs": [],
   "source": [
    "!java -Xmx{ramG}g -jar {softpath}/gatk-3.8.1.0/GenomeAnalysisTK.jar -T RealignerTargetCreator -nt {Ncpu} -R {ReferenceGenome} -I {SampleName}.Dup.bam -o {SampleName}.Indel.intervals > /dev/null 2>&1\n",
    "\n",
    "if os.path.isfile(SampleName+'.Indel.intervals'):\n",
    "    #display(Markdown('<div class=\\\"alert alert-block alert-success\\\">\\b</div>'))\n",
    "    display(Markdown('<b>\\b</b>'))\n",
    "else:\n",
    "    display(Markdown('<div class=\\\"alert alert-block alert-danger\\\"><b>Error:</b><br>File with realigned indels not present in current path: '+os.getcwd()+'</div>'))"
   ]
  },
  {
   "cell_type": "markdown",
   "metadata": {},
   "source": [
    "And then we proceed to perform realigment around the spotted regions"
   ]
  },
  {
   "cell_type": "code",
   "execution_count": null,
   "metadata": {},
   "outputs": [],
   "source": [
    "!java -Xmx{ramG}g -jar {softpath}/gatk-3.8.1.0/GenomeAnalysisTK.jar -T IndelRealigner -R {ReferenceGenome} -I {SampleName}.Dup.bam -targetIntervals {SampleName}.Indel.intervals -o {SampleName}.realigned.bam > /dev/null 2>&1\n",
    "\n",
    "if os.path.isfile(SampleName+'.realigned.bam'):\n",
    "    display(Markdown('<b>\\b</b>'))\n",
    "else:\n",
    "    display(Markdown('<div class=\\\"alert alert-block alert-danger\\\"><b>Error:</b><br>Realigned bam not present in current path: '+os.getcwd()+'</div>'))"
   ]
  },
  {
   "cell_type": "markdown",
   "metadata": {},
   "source": [
    "Check if files present"
   ]
  },
  {
   "cell_type": "code",
   "execution_count": null,
   "metadata": {},
   "outputs": [],
   "source": [
    "if os.path.isfile(SampleName+'.realigned.bam'):\n",
    "    display(Markdown('<div class=\\\"alert alert-block alert-success\\\"><b>\\b Mapping step complete</b></div>'))\n",
    "else:\n",
    "    display(Markdown('<div class=\\\"alert alert-block alert-danger\\\"><b>Error:</b><br>Realigned bam not present in current path: '+os.getcwd()+'<br>Either the path is wrong or cells above have to be run again</div>'))"
   ]
  },
  {
   "cell_type": "markdown",
   "metadata": {},
   "source": [
    "Now is time for variant calling, though feel free to check the mapping file using tablet/igv. You can download the bam and the index file from:"
   ]
  },
  {
   "cell_type": "code",
   "execution_count": null,
   "metadata": {},
   "outputs": [],
   "source": [
    "display(Markdown('Download bam files (right-click and \\\"save as\\\"): \\n' + '* [' + SampleName + '.realigned.bam](./analysis/Alignments/' + SampleName +'.realigned.bam)\\n' + '* [' + SampleName + '.realigned.bam.bai](./analysis/Alignments/' + SampleName +'.realigned.bam.bai)\\n'))"
   ]
  },
  {
   "cell_type": "markdown",
   "metadata": {},
   "source": [
    "### Variant calling\n",
    "Now that our reads are properly aligned, lets do variant calling. To start, let's make a new directory where the analysis will be run and the results reported."
   ]
  },
  {
   "cell_type": "code",
   "execution_count": null,
   "metadata": {},
   "outputs": [],
   "source": [
    "##Move to analysis\n",
    "os.chdir(path + '/analysis/')\n",
    "##Create directory to place data\n",
    "!mkdir -p VariantCalling\n",
    "##Move to that directory\n",
    "os.chdir(path + '/analysis/VariantCalling')"
   ]
  },
  {
   "cell_type": "markdown",
   "metadata": {},
   "source": [
    "This pipeline uses two different GATK variant callers, those being Unified Genotyper (UG) and Haplotype Caller (HC). Both should produce good calls though some pipelines preffer the use of HC given its confidence metrics."
   ]
  },
  {
   "cell_type": "markdown",
   "metadata": {},
   "source": [
    "#### Unified genotyper\n",
    "The code below produces a vcf via GATK's unified genotyper tool"
   ]
  },
  {
   "cell_type": "code",
   "execution_count": null,
   "metadata": {},
   "outputs": [],
   "source": [
    "!java -Xmx{ramG}g -jar {softpath}/gatk-3.8.1.0/GenomeAnalysisTK.jar -T UnifiedGenotyper -R {ReferenceGenome} -nt {Ncpu} -l INFO -glm BOTH -I {path}/analysis/Alignments/{SampleName}.realigned.bam -o {SampleName}.UG.vcf -mbq {minBaseQforVcf} -stand_call_conf {minVarCall} > /dev/null 2>&1\n",
    "\n",
    "if os.path.isfile(SampleName+'.UG.vcf'):\n",
    "    display(Markdown('<b>\\b</b>'))\n",
    "else:\n",
    "    display(Markdown('<div class=\\\"alert alert-block alert-danger\\\"><b>Error:</b><br>Realigned bam not present in current path: '+os.getcwd()+'</div>'))"
   ]
  },
  {
   "cell_type": "markdown",
   "metadata": {},
   "source": [
    "#### Haplotype caller\n",
    "Before calling variants vie GATK haplotype caller, we need to produce confidence values for each site and store them into a g.vcf file"
   ]
  },
  {
   "cell_type": "code",
   "execution_count": null,
   "metadata": {},
   "outputs": [],
   "source": [
    "!java -Xmx{ramG}g -jar {softpath}/gatk-3.8.1.0/GenomeAnalysisTK.jar -T HaplotypeCaller --emitRefConfidence GVCF -R {ReferenceGenome} -l INFO -I {path}/analysis/Alignments/{SampleName}.realigned.bam -o {SampleName}.g.vcf -mbq {minBaseQforVcf} -mmq {minMaqQforVcf} -stand_call_conf {minVarCall} > /dev/null 2>&1\n",
    "\n",
    "if os.path.isfile(SampleName+'.g.vcf'):\n",
    "    display(Markdown('<b>\\b</b>'))\n",
    "else:\n",
    "    display(Markdown('<div class=\\\"alert alert-block alert-danger\\\"><b>Error:</b><br>Realigned bam not present in current path: '+os.getcwd()+'</div>'))"
   ]
  },
  {
   "cell_type": "markdown",
   "metadata": {},
   "source": [
    "After that, we can proceed to call the vcf from the g.vcf"
   ]
  },
  {
   "cell_type": "code",
   "execution_count": null,
   "metadata": {},
   "outputs": [],
   "source": [
    "!java -Xmx{ramG}g -jar {softpath}/gatk-3.8.1.0/GenomeAnalysisTK.jar -T GenotypeGVCFs -R {ReferenceGenome} -nt {Ncpu} -l INFO -V {SampleName}.g.vcf -dt none -o {SampleName}.HC.vcf  > /dev/null 2>&1\n",
    "   \n",
    "    ## Check if HC vcf is done\n",
    "if os.path.isfile(SampleName+'.HC.vcf'):\n",
    "    display(Markdown('<div class=\\\"alert alert-block alert-success\\\"><b>\\b Haplotype Caller complete</b></div>'))\n",
    "else:\n",
    "    display(Markdown('<div class=\\\"alert alert-block alert-danger\\\"><b>Error:</b><br>Realigned bam not present in current path: '+os.getcwd()+'<br>Either the path is wrong or cells above have to be run again</div>'))\n",
    "    \n",
    "## Check if UG vcf is done\n",
    "if os.path.isfile(SampleName+'.UG.vcf'):\n",
    "    display(Markdown('<div class=\\\"alert alert-block alert-success\\\"><b>\\b Unified Genotypifier complete</b></div>'))\n",
    "else:\n",
    "    display(Markdown('<div class=\\\"alert alert-block alert-danger\\\"><b>Error:</b><br>Realigned bam not present in current path: '+os.getcwd()+'<br>Either the path is wrong or cells above have to be run again</div>'))\n"
   ]
  },
  {
   "cell_type": "markdown",
   "metadata": {},
   "source": [
    "Now, for each vcf let's plot the distribution of the analized variants with python. First the vcf produced with haplotype caller"
   ]
  },
  {
   "cell_type": "code",
   "execution_count": null,
   "metadata": {},
   "outputs": [],
   "source": [
    "df = pd.read_csv((SampleName+'.HC.vcf'),delimiter='\\t',comment='#', names=[\"chr\",\"pos\",\"id\",\"ref\",\"alt\",\"qual\",\"filter\",\"info\",\"format\",SampleName])\n",
    "\n",
    "strarray= df[SampleName]\n",
    "\n",
    "RefD=[]\n",
    "AltD=[]\n",
    "Freq=[]\n",
    "for i in range(len(strarray)):\n",
    "    deps=(strarray[i].split(':'))[1].split(',')\n",
    "    RefD.append(int(deps[0]))\n",
    "    AltD.append(int(deps[1]))\n",
    "    tmpfre=int(deps[0]) + int(deps[1])\n",
    "    if tmpfre > 0 :\n",
    "        Freq.append(int(deps[1])/(int(deps[0]) + int(deps[1])))\n",
    "    else :\n",
    "        Freq.append(0)\n",
    "\n",
    "df['RefD']=RefD\n",
    "df['AltD']=AltD\n",
    "df['Freq']=Freq\n",
    "\n",
    "##Plot as separated interactive plot\n",
    "%matplotlib inline\n",
    "##Or non interactive\n",
    "#%matplotlib notebook\n",
    "\n",
    "Window = 50000\n",
    "AFreq = .8\n",
    "display(Markdown('<b>'+SampleName+' Haplotype Caller; Number of variants above an allele frequency >'+str(AFreq)+' in '+str(Window)+'bp non-overlapping windows</b>'))\n",
    "\n",
    "for chrname in df[\"chr\"].unique() :\n",
    "    chr1=df.loc[df[\"chr\"]==chrname]\n",
    "    chr1 = chr1.loc[chr1[\"Freq\"]>AFreq]\n",
    "    chr1H = np.array((chr1.groupby(chr1[\"pos\"] // Window).count())[\"chr\"])\n",
    "    plt.figure()\n",
    "    plt.stem(np.array(range(len(chr1H)))*Window,chr1H)\n",
    "    plt.xlabel(\"Genomic Location, Window Size = \" + str(Window))\n",
    "    plt.ylabel(\"No. of variants with AF > \" + str(AFreq))\n",
    "    plt.title(chrname)\n",
    "plt.show() \n",
    "\n",
    "#Plot all together\n",
    "#%matplotlib notebook\n",
    "#%matplotlib inline\n",
    "#Window = 50000\n",
    "#AFreq = .8\n",
    "#con = 0\n",
    "#figure, axis = plt.subplots((len(df[\"chr\"].unique()) + 3)//4, 4)\n",
    "#for chrname in df[\"chr\"].unique() :\n",
    "#    chr1=df.loc[df[\"chr\"]==chrname]\n",
    "#    chr1 = chr1.loc[chr1[\"Freq\"]>AFreq]\n",
    "#    chr1H = np.array((chr1.groupby(chr1[\"pos\"] // Window).count())[\"chr\"])\n",
    "#    axis[con//4, con%4].stem(np.array(range(len(chr1H)))*Window,chr1H)\n",
    "#    axis[con//4, con%4].set_title(chrname)\n",
    "#    con = con + 1\n",
    "#plt.show()"
   ]
  },
  {
   "cell_type": "markdown",
   "metadata": {},
   "source": [
    "And then unified genotyper"
   ]
  },
  {
   "cell_type": "code",
   "execution_count": null,
   "metadata": {},
   "outputs": [],
   "source": [
    "df = pd.read_csv((SampleName+'.UG.vcf'),delimiter='\\t',comment='#', names=[\"chr\",\"pos\",\"id\",\"ref\",\"alt\",\"qual\",\"filter\",\"info\",\"format\",SampleName])\n",
    "\n",
    "strarray= df[SampleName]\n",
    "\n",
    "RefD=[]\n",
    "AltD=[]\n",
    "Freq=[]\n",
    "for i in range(len(strarray)):\n",
    "    deps=(strarray[i].split(':'))[1].split(',')\n",
    "    RefD.append(int(deps[0]))\n",
    "    AltD.append(int(deps[1]))\n",
    "    tmpfre=int(deps[0]) + int(deps[1])\n",
    "    if tmpfre > 0 :\n",
    "        Freq.append(int(deps[1])/(int(deps[0]) + int(deps[1])))\n",
    "    else :\n",
    "        Freq.append(0)\n",
    "\n",
    "df['RefD']=RefD\n",
    "df['AltD']=AltD\n",
    "df['Freq']=Freq\n",
    "\n",
    "##Plot as separated interactive plot\n",
    "%matplotlib inline\n",
    "##Or non interactive\n",
    "#%matplotlib notebook\n",
    "\n",
    "Window = 50000\n",
    "AFreq = .8\n",
    "display(Markdown('<b>'+SampleName+' Unified Genotyper; Number of variants above an allele frequency >'+str(AFreq)+' in '+str(Window)+'bp non-overlapping windows</b>'))\n",
    "\n",
    "for chrname in df[\"chr\"].unique() :\n",
    "    chr1=df.loc[df[\"chr\"]==chrname]\n",
    "    chr1 = chr1.loc[chr1[\"Freq\"]>AFreq]\n",
    "    chr1H = np.array((chr1.groupby(chr1[\"pos\"] // Window).count())[\"chr\"])\n",
    "    plt.figure()\n",
    "    plt.stem(np.array(range(len(chr1H)))*Window,chr1H)\n",
    "    plt.xlabel(\"Genomic Location, Window Size = \" + str(Window))\n",
    "    plt.ylabel(\"No. of variants with AF > \" + str(AFreq))\n",
    "    plt.title(chrname)\n",
    "plt.show() \n",
    "\n",
    "#Plot all together\n",
    "#%matplotlib notebook\n",
    "#%matplotlib inline\n",
    "#Window = 50000\n",
    "#AFreq = .8\n",
    "#con = 0\n",
    "#figure, axis = plt.subplots((len(df[\"chr\"].unique()) + 3)//4, 4)\n",
    "#for chrname in df[\"chr\"].unique() :\n",
    "#    chr1=df.loc[df[\"chr\"]==chrname]\n",
    "#    chr1 = chr1.loc[chr1[\"Freq\"]>AFreq]\n",
    "#    chr1H = np.array((chr1.groupby(chr1[\"pos\"] // Window).count())[\"chr\"])\n",
    "#    axis[con//4, con%4].stem(np.array(range(len(chr1H)))*Window,chr1H)\n",
    "#    axis[con//4, con%4].set_title(chrname)\n",
    "#    con = con + 1\n",
    "#plt.show()"
   ]
  },
  {
   "cell_type": "markdown",
   "metadata": {},
   "source": [
    "Finally, let's proceed to annotate each variant"
   ]
  },
  {
   "cell_type": "markdown",
   "metadata": {},
   "source": [
    "### Variant annotation with SnpEff\n",
    "The last step is to identify if any mutation observed has an effect over any coding sequence. For that, we use SNPeff suite. Lets start by creating a new folder and going there:"
   ]
  },
  {
   "cell_type": "code",
   "execution_count": null,
   "metadata": {},
   "outputs": [],
   "source": [
    "##Move to analysis\n",
    "os.chdir(path + '/analysis/')\n",
    "##Create directory to place data\n",
    "!mkdir -p VariantPrediction\n",
    "##Move to that directory\n",
    "os.chdir(path + '/analysis/VariantPrediction')"
   ]
  },
  {
   "cell_type": "markdown",
   "metadata": {},
   "source": [
    "Then, let's run SnpEff on both vcfs produced by GATK algorithms."
   ]
  },
  {
   "cell_type": "code",
   "execution_count": null,
   "metadata": {},
   "outputs": [],
   "source": [
    "###Produce Annotations\n",
    "!java -Xmx{ramG}g -jar {softpath}/SnpEff-5.0/snpEff/snpEff.jar {SnpEffGen} -stats {SampleName}.HC.html {path}/analysis/VariantCalling/{SampleName}.HC.vcf > {SampleName}.HC.ann.vcf\n",
    "!java -Xmx{ramG}g -jar {softpath}/SnpEff-5.0/snpEff/snpEff.jar {SnpEffGen} -stats {SampleName}.UG.html {path}/analysis/VariantCalling/{SampleName}.UG.vcf > {SampleName}.UG.ann.vcf \n",
    "\n",
    "if os.path.isfile(SampleName+'.HC.ann.vcf'):\n",
    "    if os.path.isfile(SampleName+'.UG.ann.vcf'):\n",
    "        display(Markdown('<b>\\b</b>'))\n",
    "    else:\n",
    "        display(Markdown('<div class=\\\"alert alert-block alert-danger\\\"><b>Error:</b><br>Annotated UG vcf not present in current path: '+os.getcwd()+'</div>'))\n",
    "else:\n",
    "    display(Markdown('<div class=\\\"alert alert-block alert-danger\\\"><b>Error:</b><br>Annotated HC vcf not present in current path: '+os.getcwd()+'</div>'))"
   ]
  },
  {
   "cell_type": "code",
   "execution_count": null,
   "metadata": {},
   "outputs": [],
   "source": [
    "!cat {SampleName}.HC.ann.vcf | perl {softpath}/SnpEff-5.0/snpEff/scripts/vcfEffOnePerLine.pl | java -Xmx{ramG}g -jar {softpath}/SnpEff-5.0/snpEff/SnpSift.jar extractFields - -s \",\" -e \".\" CHROM POS REF ALT QUAL GEN[{SampleName}].GT GEN[{SampleName}].DP GEN[*].AD \"ANN[*].GENEID\" \"ANN[*].ALLELE\" \"ANN[*].EFFECT\" \"ANN[*].IMPACT\" \"ANN[*].GENE\" \"ANN[*].FEATURE\" \"ANN[*].FEATUREID\" \"ANN[*].BIOTYPE\" \"ANN[*].RANK\" \"ANN[*].HGVS_C\" \"ANN[*].HGVS_P\" \"ANN[*].CDNA_POS\" \"ANN[*].CDNA_LEN\" \"ANN[*].CDS_POS\" \"ANN[*].CDS_LEN\" \"ANN[*].AA_POS\" \"ANN[*].AA_LEN\" \"ANN[*].DISTANCE\" \"LOF[*].GENE\" \"LOF[*].GENEID\" \"NMD[*].GENE\" \"NMD[*].GENEID\" > {SampleName}.HC.ann.txt\n",
    "!cat {SampleName}.UG.ann.vcf | perl {softpath}/SnpEff-5.0/snpEff/scripts/vcfEffOnePerLine.pl | java -Xmx{ramG}g -jar {softpath}/SnpEff-5.0/snpEff/SnpSift.jar extractFields - -s \",\" -e \".\" CHROM POS REF ALT QUAL GEN[{SampleName}].GT GEN[{SampleName}].DP GEN[*].AD \"ANN[*].GENEID\" \"ANN[*].ALLELE\" \"ANN[*].EFFECT\" \"ANN[*].IMPACT\" \"ANN[*].GENE\" \"ANN[*].FEATURE\" \"ANN[*].FEATUREID\" \"ANN[*].BIOTYPE\" \"ANN[*].RANK\" \"ANN[*].HGVS_C\" \"ANN[*].HGVS_P\" \"ANN[*].CDNA_POS\" \"ANN[*].CDNA_LEN\" \"ANN[*].CDS_POS\" \"ANN[*].CDS_LEN\" \"ANN[*].AA_POS\" \"ANN[*].AA_LEN\" \"ANN[*].DISTANCE\" \"LOF[*].GENE\" \"LOF[*].GENEID\" \"NMD[*].GENE\" \"NMD[*].GENEID\" > {SampleName}.UG.ann.txt\n",
    "\n",
    "if os.path.isfile(SampleName+'.HC.ann.txt'):\n",
    "    if os.path.isfile(SampleName+'.UG.ann.txt'):\n",
    "        display(Markdown('<b>\\b</b>'))\n",
    "    else:\n",
    "        display(Markdown('<div class=\\\"alert alert-block alert-danger\\\"><b>Error:</b><br>Annotated UG vcf not present in current path: '+os.getcwd()+'</div>'))\n",
    "else:\n",
    "    display(Markdown('<div class=\\\"alert alert-block alert-danger\\\"><b>Error:</b><br>Annotated HC vcf not present in current path: '+os.getcwd()+'</div>'))"
   ]
  },
  {
   "cell_type": "code",
   "execution_count": null,
   "metadata": {},
   "outputs": [],
   "source": [
    "## other approach\n",
    "!echo \"#High impact mutations\" > {SampleName}.HC.ann.sort.txt\n",
    "!cat {SampleName}.HC.ann.vcf | perl {softpath}/SnpEff-5.0/snpEff/scripts/vcfEffOnePerLine.pl | java -Xmx{ramG}g -jar {softpath}/SnpEff-5.0/snpEff/SnpSift.jar filter \"ANN[0].IMPACT has 'HIGH'\" | java -Xmx{ramG}g -jar {softpath}/SnpEff-5.0/snpEff/SnpSift.jar extractFields - CHROM POS REF ALT \"ANN[*].GENE\" \"ANN[*].FEATUREID\" \"ANN[*].EFFECT\" \"LOF[*].GENE\" >> {SampleName}.HC.ann.sort.txt\n",
    "!echo \"#Moderate impact mutations\" >> {SampleName}.HC.ann.sort.txt\n",
    "!cat {SampleName}.HC.ann.vcf | perl {softpath}/SnpEff-5.0/snpEff/scripts/vcfEffOnePerLine.pl | java -Xmx{ramG}g -jar {softpath}/SnpEff-5.0/snpEff/SnpSift.jar filter \"ANN[0].IMPACT has 'MODERATE'\" | java -Xmx{ramG}g -jar {softpath}/SnpEff-5.0/snpEff/SnpSift.jar extractFields - CHROM POS REF ALT \"ANN[*].GENE\" \"ANN[*].FEATUREID\" \"ANN[*].EFFECT\" \"LOF[*].GENE\" >> {SampleName}.HC.ann.sort.txt\n",
    "!echo \"#Low impact mutations\" >> {SampleName}.HC.ann.sort.txt\n",
    "!cat {SampleName}.HC.ann.vcf | perl {softpath}/SnpEff-5.0/snpEff/scripts/vcfEffOnePerLine.pl | java -Xmx{ramG}g -jar {softpath}/SnpEff-5.0/snpEff/SnpSift.jar filter \"ANN[0].IMPACT has 'LOW'\" | java -Xmx{ramG}g -jar {softpath}/SnpEff-5.0/snpEff/SnpSift.jar extractFields - CHROM POS REF ALT \"ANN[*].GENE\" \"ANN[*].FEATUREID\" \"ANN[*].EFFECT\" \"LOF[*].GENE\" >> {SampleName}.HC.ann.sort.txt\n",
    "\n",
    "!echo \"#High impact mutations\" > {SampleName}.UG.ann.sort.txt\n",
    "!cat {SampleName}.UG.ann.vcf | perl {softpath}/SnpEff-5.0/snpEff/scripts/vcfEffOnePerLine.pl | java -Xmx{ramG}g -jar {softpath}/SnpEff-5.0/snpEff/SnpSift.jar filter \"ANN[0].IMPACT has 'HIGH'\" | java -Xmx{ramG}g -jar {softpath}/SnpEff-5.0/snpEff/SnpSift.jar extractFields - CHROM POS REF ALT \"ANN[*].GENE\" \"ANN[*].FEATUREID\" \"ANN[*].EFFECT\" \"LOF[*].GENE\" >> {SampleName}.UG.ann.sort.txt\n",
    "!echo \"#Moderate impact mutations\" >> {SampleName}.UG.ann.sort.txt\n",
    "!cat {SampleName}.UG.ann.vcf | perl {softpath}/SnpEff-5.0/snpEff/scripts/vcfEffOnePerLine.pl | java -Xmx{ramG}g -jar {softpath}/SnpEff-5.0/snpEff/SnpSift.jar filter \"ANN[0].IMPACT has 'MODERATE'\" | java -Xmx{ramG}g -jar {softpath}/SnpEff-5.0/snpEff/SnpSift.jar extractFields - CHROM POS REF ALT \"ANN[*].GENE\" \"ANN[*].FEATUREID\" \"ANN[*].EFFECT\" \"LOF[*].GENE\" >> {SampleName}.UG.ann.sort.txt\n",
    "!echo \"#Low impact mutations\" >> {SampleName}.UG.ann.sort.txt\n",
    "!cat {SampleName}.UG.ann.vcf | perl {softpath}/SnpEff-5.0/snpEff/scripts/vcfEffOnePerLine.pl | java -Xmx{ramG}g -jar {softpath}/SnpEff-5.0/snpEff/SnpSift.jar filter \"ANN[0].IMPACT has 'LOW'\" | java -Xmx{ramG}g -jar {softpath}/SnpEff-5.0/snpEff/SnpSift.jar extractFields - CHROM POS REF ALT \"ANN[*].GENE\" \"ANN[*].FEATUREID\" \"ANN[*].EFFECT\" \"LOF[*].GENE\" >> {SampleName}.UG.ann.sort.txt\n",
    "\n",
    "!echo \"First 10 entries in Unified Genotyper variants\"\n",
    "!head {SampleName}.UG.ann.sort.txt\n",
    "!echo \"First 10 entries in Haplotype Caller\"\n",
    "!head {SampleName}.HC.ann.sort.txt"
   ]
  },
  {
   "cell_type": "code",
   "execution_count": null,
   "metadata": {},
   "outputs": [],
   "source": [
    "display(Markdown('Full reports (open a new tab to see them): \\n' + '* [' + SampleName + ' Unified Genotyper results](./analysis/VariantPrediction/' + SampleName +'.UG.html)\\n' + '* [' + SampleName + ' Haplotype Caller results](./analysis/VariantPrediction/' + SampleName +'.HC.html)\\n'))"
   ]
  },
  {
   "cell_type": "markdown",
   "metadata": {},
   "source": [
    "**Done**"
   ]
  }
 ],
 "metadata": {
  "kernelspec": {
   "display_name": "Python 3",
   "language": "python",
   "name": "python3"
  },
  "language_info": {
   "codemirror_mode": {
    "name": "ipython",
    "version": 3
   },
   "file_extension": ".py",
   "mimetype": "text/x-python",
   "name": "python",
   "nbconvert_exporter": "python",
   "pygments_lexer": "ipython3",
   "version": "3.7.3"
  }
 },
 "nbformat": 4,
 "nbformat_minor": 2
}
